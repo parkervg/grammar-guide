{
 "cells": [
  {
   "cell_type": "code",
   "execution_count": 1,
   "id": "initial_id",
   "metadata": {
    "collapsed": true,
    "ExecuteTime": {
     "end_time": "2024-09-01T14:17:18.409909Z",
     "start_time": "2024-09-01T14:17:15.515450Z"
    }
   },
   "outputs": [
    {
     "data": {
      "text/plain": "True"
     },
     "execution_count": 1,
     "metadata": {},
     "output_type": "execute_result"
    }
   ],
   "source": [
    "import os\n",
    "from anthropic import Anthropic\n",
    "from dotenv import load_dotenv\n",
    "import guidance\n",
    "import json \n",
    "\n",
    "import grammar_guide as gg \n",
    "\n",
    "load_dotenv()"
   ]
  },
  {
   "cell_type": "code",
   "execution_count": 7,
   "outputs": [],
   "source": [
    "client = Anthropic(\n",
    "    api_key=os.environ.get(\"ANTRHOPIC_API_KEY\"),\n",
    ")\n",
    "draft_model_name_or_path = \"HuggingFaceTB/SmolLM-135M\""
   ],
   "metadata": {
    "collapsed": false,
    "ExecuteTime": {
     "end_time": "2024-09-01T14:17:22.071325Z",
     "start_time": "2024-09-01T14:17:22.021712Z"
    }
   },
   "id": "99f1d2d394afcd6d"
  },
  {
   "cell_type": "code",
   "execution_count": 8,
   "outputs": [],
   "source": [
    "def anthropic_generate(s: str, prompt: str, max_new_tokens: int) -> str:\n",
    "    messages = [\n",
    "        {\n",
    "            \"role\": \"user\",\n",
    "            \"content\": prompt\n",
    "        }\n",
    "    ]\n",
    "    if s:\n",
    "        messages += [\n",
    "            {\n",
    "                \"role\": \"assistant\",\n",
    "                \"content\": s\n",
    "            }\n",
    "        ]\n",
    "    message = client.messages.create(\n",
    "        max_tokens=max_new_tokens,\n",
    "        messages=messages,\n",
    "        model=\"claude-3-5-sonnet-20240620\",\n",
    "    )\n",
    "    return message.content[0].text"
   ],
   "metadata": {
    "collapsed": false,
    "ExecuteTime": {
     "end_time": "2024-09-01T14:17:22.275138Z",
     "start_time": "2024-09-01T14:17:22.271727Z"
    }
   },
   "id": "393cc41db307254b"
  },
  {
   "cell_type": "code",
   "execution_count": 9,
   "outputs": [
    {
     "name": "stderr",
     "output_type": "stream",
     "text": [
      "\u001B[33mMade a single_candidate correction...\u001B[39m\n",
      "\u001B[33mMade a single_candidate correction...\u001B[39m\n"
     ]
    },
    {
     "name": "stdout",
     "output_type": "stream",
     "text": [
      "27.150886297225952\n"
     ]
    }
   ],
   "source": [
    "from string import Template\n",
    " \n",
    "num_json_keys = 6 # The number of JSON keys we want to generate (not telling Claude this!)\n",
    "lark_gramar_str = Template(open(\"../examples/benchmarks/json.lark\").read()).safe_substitute(\n",
    "    NUM_REPEATS=f\"{num_json_keys-1}\"\n",
    ")\n",
    "res = gg.guide(\n",
    "    model=anthropic_generate,\n",
    "    parser=gg.load_parser(lark_gramar_str),\n",
    "    prompt=\"Here's a JSON object with only string values:\",\n",
    "    draft_model=guidance.models.Transformers(\n",
    "        draft_model_name_or_path, echo=False\n",
    "    ),\n",
    "    max_new_tokens=50,\n",
    "    max_grammar_corrections=3,\n",
    "    verbose=True,\n",
    ")\n",
    "print(res.process_time_seconds)"
   ],
   "metadata": {
    "collapsed": false,
    "ExecuteTime": {
     "end_time": "2024-09-01T14:17:50.667102Z",
     "start_time": "2024-09-01T14:17:22.959396Z"
    }
   },
   "id": "95f08c819e565214"
  },
  {
   "cell_type": "code",
   "execution_count": 10,
   "outputs": [
    {
     "name": "stdout",
     "output_type": "stream",
     "text": [
      "[\n",
      "    {\n",
      "        \"Original\": \"{\\n  \\\"name\\\": \\\"John Doe\\\",\\n  \\\"email\\\": \\\"john.doe@example.com\\\",\\n  \\\"age\\\": \\\"30\\\",\\n  \\\"city\\\": \\\"New York\\\"\\n}\\n\\nHow would you convert this to\",\n",
      "        \"Corrected\": \"{\\n  \\\"name\\\": \\\"John Doe\\\",\\n  \\\"email\\\": \\\"john.doe@example.com\\\",\\n  \\\"age\\\": \\\"30\\\",\\n  \\\"city\\\": \\\"New York\\\"\\n,\",\n",
      "        \"Selected Candidate\": \",\",\n",
      "        \"Type\": \"single_candidate\"\n",
      "    },\n",
      "    {\n",
      "        \"Original\": \"{\\n  \\\"name\\\": \\\"John Doe\\\",\\n  \\\"email\\\": \\\"john.doe@example.com\\\",\\n  \\\"age\\\": \\\"30\\\",\\n  \\\"city\\\": \\\"New York\\\"\\n,\\n}\\n\\nHow would you convert this to a JavaScript object?\",\n",
      "        \"Corrected\": \"{\\n  \\\"name\\\": \\\"John Doe\\\",\\n  \\\"email\\\": \\\"john.doe@example.com\\\",\\n  \\\"age\\\": \\\"30\\\",\\n  \\\"city\\\": \\\"New York\\\"\\n,\\n\\\"\",\n",
      "        \"Selected Candidate\": \"\\\"\",\n",
      "        \"Type\": \"single_candidate\"\n",
      "    }\n",
      "]\n"
     ]
    }
   ],
   "source": [
    "print(json.dumps(res.to_list(), indent=4))"
   ],
   "metadata": {
    "collapsed": false,
    "ExecuteTime": {
     "end_time": "2024-09-01T14:17:50.673476Z",
     "start_time": "2024-09-01T14:17:50.670342Z"
    }
   },
   "id": "5a2dee1ac2271855"
  },
  {
   "cell_type": "code",
   "execution_count": 11,
   "outputs": [
    {
     "name": "stdout",
     "output_type": "stream",
     "text": [
      "{\n",
      "    \"name\": \"John Doe\",\n",
      "    \"email\": \"john.doe@example.com\",\n",
      "    \"age\": \"30\",\n",
      "    \"city\": \"New York\",\n",
      "    \"country\": \"USA\"\n",
      "}\n"
     ]
    }
   ],
   "source": [
    "print(json.dumps(json.loads(res.response), indent=4))"
   ],
   "metadata": {
    "collapsed": false,
    "ExecuteTime": {
     "end_time": "2024-09-01T14:17:50.680299Z",
     "start_time": "2024-09-01T14:17:50.673594Z"
    }
   },
   "id": "ec6b645b9c14896f"
  }
 ],
 "metadata": {
  "kernelspec": {
   "display_name": "Python 3",
   "language": "python",
   "name": "python3"
  },
  "language_info": {
   "codemirror_mode": {
    "name": "ipython",
    "version": 2
   },
   "file_extension": ".py",
   "mimetype": "text/x-python",
   "name": "python",
   "nbconvert_exporter": "python",
   "pygments_lexer": "ipython2",
   "version": "2.7.6"
  }
 },
 "nbformat": 4,
 "nbformat_minor": 5
}
