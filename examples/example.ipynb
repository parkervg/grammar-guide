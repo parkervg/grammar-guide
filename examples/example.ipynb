{
 "cells": [
  {
   "cell_type": "code",
   "execution_count": 5,
   "id": "initial_id",
   "metadata": {
    "collapsed": true,
    "ExecuteTime": {
     "end_time": "2024-08-17T12:11:02.987708Z",
     "start_time": "2024-08-17T12:11:02.985205Z"
    }
   },
   "outputs": [],
   "source": [
    "from transformers import AutoModelForCausalLM, AutoTokenizer\n",
    "import guidance\n",
    "from textwrap import dedent\n",
    "import json \n",
    "\n",
    "from grammar_guide import guide"
   ]
  },
  {
   "cell_type": "code",
   "execution_count": 2,
   "outputs": [],
   "source": [
    "model_name_or_path = \"HuggingFaceTB/SmolLM-135M\"\n",
    "model = AutoModelForCausalLM.from_pretrained(model_name_or_path)\n",
    "tokenizer = AutoTokenizer.from_pretrained(model_name_or_path)"
   ],
   "metadata": {
    "collapsed": false,
    "ExecuteTime": {
     "end_time": "2024-08-17T12:10:14.744527Z",
     "start_time": "2024-08-17T12:10:14.445780Z"
    }
   },
   "id": "3f8de4fda975943c"
  },
  {
   "cell_type": "code",
   "execution_count": 12,
   "outputs": [
    {
     "name": "stderr",
     "output_type": "stream",
     "text": [
      "\u001B[33mMade a single_candidate correction...\u001B[39m\n",
      "\u001B[33mMade a single_candidate correction...\u001B[39m\n",
      "\u001B[33mMade a single_candidate correction...\u001B[39m\n",
      "\u001B[33mMade a single_candidate correction...\u001B[39m\n",
      "\u001B[33mMade a single_candidate correction...\u001B[39m\n",
      "\u001B[33mMade a single_candidate correction...\u001B[39m\n",
      "\u001B[33mMade a single_candidate correction...\u001B[39m\n",
      "\u001B[33mMade a single_candidate correction...\u001B[39m\n"
     ]
    },
    {
     "data": {
      "text/html": "<div style='margin: 0px; padding: 0px; font-family: ColfaxAI, Arial; font-size: 20px;'<text style=color:black>\n   </text><text style=color:black> Here</text><text style=color:black> is</text><text style=color:black> a</text><text style=color:black> really</text><text style=color:black> long</text><text style=color:black>,</text><text style=color:black> nested</text><text style=color:black> JSON</text><text style=color:black> that</text><text style=color:black> extracts</text><text style=color:black> fields</text><text style=color:black> from</text><text style=color:black> this</text><text style=color:black> sentence</text><text style=color:black>:</text><text style=color:black>\n</text><text style=color:black>\n</text><text style=color:black>My</text><text style=color:black> name</text><text style=color:black> is</text><text style=color:black> Joseph</text><text style=color:black> Smith</text><text style=color:black>,</text><text style=color:black> and</text><text style=color:black> I</text><text style=color:black> work</text><text style=color:black> at</text><text style=color:black> Apple</text><text style=color:black>.</text><text style=color:black> I</text><text style=color:black>'m</text><text style=color:black> </text><text style=color:black>3</text><text style=color:black>2</text><text style=color:black> years</text><text style=color:black> old</text><text style=color:black>,</text><text style=color:black> and</text><text style=color:black> my</text><text style=color:black> interests</text><text style=color:black> include</text><text style=color:black> kay</text><text style=color:black>aking</text><text style=color:black>,</text><text style=color:black> skiing</text><text style=color:black>,</text><text style=color:black> snow</text><text style=color:black>boarding</text><text style=color:black>,</text><text style=color:black> and</text><text style=color:black> woodworking</text><text style=color:black>.</text><text style=color:black>\n</text><text style=color:black>\n</text><text style=color:black>```</text><text style=color:black>json</text><text style=color:black>\n\n</text><text style=color:black>{\"</text><text style=color:black>name</text><text style=color:orange>\":</text><text style=color:green>\":\"</text><text style=color:green>Joseph</text><text style=color:green> Smith</text><text style=color:green>,</text><text style=color:green> </text><text style=color:green>3</text><text style=color:green>2</text><text style=color:green> years</text><text style=color:green> old</text><text style=color:green>,</text><text style=color:green> and</text><text style=color:blue>\"</text><text style=color:green>\"</text><text style=color:red>\n</text><text style=color:red> \"</text><text style=color:red>my</text><text style=color:red> interests</text><text style=color:red> include</text><text style=color:red> kay</text><text style=color:red>aking</text><text style=color:red>,</text><text style=color:red> skiing</text><text style=color:red>,</text><text style=color:green>\n </text><text style=color:blue>,</text><text style=color:red>,\"</text><text style=color:red>age</text><text style=color:red>\":</text><text style=color:red>3</text><text style=color:red>2</text><text style=color:red>,</text><text style=color:red>\n </text><text style=color:red> \"</text><text style=color:red>location</text><text style=color:red>\":\"</text><text style=color:red>Apple</text><text style=color:blue>\"</text><text style=color:red>\"}</text><text style=color:red>\n</text><text style=color:red>\n</text><text style=color:red>```</text><text style=color:red>\n</text><text style=color:red>\n</text><text style=color:red>I</text><text style=color:red>'m</text><text style=color:red> trying</text><text style=color:red> to</text><text style=color:red> do</text><text style=color:green>\n</text><text style=color:green> </text><text style=color:green>,\"</text><text style=color:green>age</text><text style=color:green>\":</text><text style=color:green>3</text><text style=color:green>2</text><text style=color:green>,</text><text style=color:green>\n </text><text style=color:green> \"</text><text style=color:green>location</text><text style=color:green>\":\"</text><text style=color:green>Apple</text><text style=color:orange>\"</text><text style=color:blue>,</text><text style=color:green>\"</text><text style=color:red>,\"</text><text style=color:red>job</text><text style=color:red>\":\"</text><text style=color:red>K</text><text style=color:red>ay</text><text style=color:red>aking</text><text style=color:red>,</text><text style=color:red> skiing</text><text style=color:red>,</text><text style=color:red> snow</text><text style=color:blue>\"</text><text style=color:red>\"</text><text style=color:red>\n</text><text style=color:red>\n</text><text style=color:red>```</text><text style=color:red>\n</text><text style=color:red>\n</text><text style=color:red>I</text><text style=color:red>'m</text><text style=color:red> using</text><text style=color:red> the</text><text style=color:red> JSON</text><text style=color:green>\",\"</text><text style=color:green>job</text><text style=color:green>\":\"</text><text style=color:green>K</text><text style=color:green>ay</text><text style=color:green>aking</text><text style=color:green>,</text><text style=color:green> skiing</text><text style=color:green>,</text><text style=color:green> snow</text><text style=color:green>\"</text><text style=color:green>\n\n</text><text style=color:blue>,</text><text style=color:red>,\"</text><text style=color:red>job</text><text style=color:red>_</text><text style=color:red>type</text><text style=color:red>\":\"</text><text style=color:red>Wood</text><text style=color:red>working</text><text style=color:red>\"}</text><text style=color:red>\n</text><text style=color:red>\n</text><text style=color:red>```</text><text style=color:green>\n</text><text style=color:green>\n</text><text style=color:green>,\"</text><text style=color:green>job</text><text style=color:green>_</text><text style=color:green>type</text><text style=color:green>\":\"</text><text style=color:green>Wood</text><text style=color:green>working</text><text style=color:orange>\"</text><text style=color:blue>,</text><text style=color:green>\"</text><text style=color:green>,\"</text><text style=color:green>job</text><text style=color:green>_</text><text style=color:green>type</text><text style=color:green>_</text><text style=color:green>name</text><text style=color:green>\":\"</text><text style=color:green>K</text><text style=color:green>ay</text><text style=color:green>aking</text><text style=color:blue>\"</text><text style=color:green>\"</text><text style=color:green>\n</text><text style=color:green>\n</text><text style=color:green>```</text><text style=color:green>\n</text><text style=color:green>\n</text><text style=color:green>I</text><text style=color:green> want</text><text style=color:green> to</text><text style=color:green> extract</text><text style=color:green> the</text></div>"
     },
     "metadata": {},
     "output_type": "display_data"
    }
   ],
   "source": [
    "res = guide(\n",
    "    model,\n",
    "    tokenizer,\n",
    "    lark_grammar_filepath=\"../grammars/json.lark\",\n",
    "    seed_str=\"\"\"{\"name\":\"\"\",\n",
    "    prompt=dedent(\"\"\"\n",
    "    Here is a really long, nested JSON that extracts fields from this sentence:\\n\\nMy name is Joseph Smith, and I work at Apple. I'm 32 years old, and my interests include kayaking, skiing, snowboarding, and woodworking.\\n\\n```json\\n\n",
    "    \"\"\"),\n",
    "    draft_model=guidance.models.Transformers(\n",
    "        model_name_or_path, echo=False\n",
    "    ),\n",
    "    token_healing=True,\n",
    "    max_grammar_corrections=10,\n",
    "    max_new_tokens=10,\n",
    "    temperature=0.3,\n",
    ")"
   ],
   "metadata": {
    "collapsed": false,
    "ExecuteTime": {
     "end_time": "2024-08-17T12:14:06.360260Z",
     "start_time": "2024-08-17T12:14:01.445749Z"
    }
   },
   "id": "56d2f6feb26acfbe"
  },
  {
   "cell_type": "code",
   "execution_count": 13,
   "outputs": [
    {
     "name": "stdout",
     "output_type": "stream",
     "text": [
      "{\n",
      "    \"name\": \"Joseph Smith, 32 years old, and\",\n",
      "    \"age\": 32,\n",
      "    \"location\": \"Apple\",\n",
      "    \"job\": \"Kayaking, skiing, snow\",\n",
      "    \"job_type\": \"Woodworking\",\n",
      "    \"job_type_name\": \"Kayaking\"\n",
      "}\n"
     ]
    }
   ],
   "source": [
    "print(json.dumps(json.loads(res.response),indent=4))"
   ],
   "metadata": {
    "collapsed": false,
    "ExecuteTime": {
     "end_time": "2024-08-17T12:14:12.028910Z",
     "start_time": "2024-08-17T12:14:12.015315Z"
    }
   },
   "id": "e84a61ab994fe0bc"
  },
  {
   "cell_type": "code",
   "execution_count": null,
   "outputs": [],
   "source": [],
   "metadata": {
    "collapsed": false
   },
   "id": "a664340a5b2d9391"
  }
 ],
 "metadata": {
  "kernelspec": {
   "display_name": "Python 3",
   "language": "python",
   "name": "python3"
  },
  "language_info": {
   "codemirror_mode": {
    "name": "ipython",
    "version": 2
   },
   "file_extension": ".py",
   "mimetype": "text/x-python",
   "name": "python",
   "nbconvert_exporter": "python",
   "pygments_lexer": "ipython2",
   "version": "2.7.6"
  }
 },
 "nbformat": 4,
 "nbformat_minor": 5
}
