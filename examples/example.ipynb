{
 "cells": [
  {
   "cell_type": "code",
   "execution_count": 1,
   "id": "initial_id",
   "metadata": {
    "collapsed": true,
    "ExecuteTime": {
     "end_time": "2024-08-17T19:03:40.902846Z",
     "start_time": "2024-08-17T19:03:39.066249Z"
    }
   },
   "outputs": [],
   "source": [
    "from transformers import AutoModelForCausalLM, AutoTokenizer\n",
    "import guidance\n",
    "from textwrap import dedent\n",
    "import json \n",
    "\n",
    "from grammar_guide import guide"
   ]
  },
  {
   "cell_type": "code",
   "execution_count": 2,
   "outputs": [],
   "source": [
    "model_name_or_path = \"HuggingFaceTB/SmolLM-135M\"\n",
    "model = AutoModelForCausalLM.from_pretrained(model_name_or_path)\n",
    "tokenizer = AutoTokenizer.from_pretrained(model_name_or_path)"
   ],
   "metadata": {
    "collapsed": false,
    "ExecuteTime": {
     "end_time": "2024-08-17T19:03:41.155497Z",
     "start_time": "2024-08-17T19:03:40.903745Z"
    }
   },
   "id": "3f8de4fda975943c"
  },
  {
   "cell_type": "code",
   "execution_count": 3,
   "outputs": [
    {
     "name": "stderr",
     "output_type": "stream",
     "text": [
      "\u001B[33mMade a single_candidate correction...\u001B[39m\n",
      "\u001B[33mMade a single_candidate correction...\u001B[39m\n",
      "\u001B[33mMade a single_candidate correction...\u001B[39m\n",
      "\u001B[33mMade a single_candidate correction...\u001B[39m\n",
      "\u001B[33mMade a single_candidate correction...\u001B[39m\n"
     ]
    },
    {
     "data": {
      "text/html": "<div style='margin: 0px; padding: 0px; font-family: ColfaxAI, Arial; font-size: 20px;'<text style=color:black>\n   </text><text style=color:black> Here</text><text style=color:black> is</text><text style=color:black> a</text><text style=color:black> really</text><text style=color:black> long</text><text style=color:black>,</text><text style=color:black> nested</text><text style=color:black> JSON</text><text style=color:black> that</text><text style=color:black> extracts</text><text style=color:black> fields</text><text style=color:black> from</text><text style=color:black> this</text><text style=color:black> sentence</text><text style=color:black>:</text><text style=color:black>\n</text><text style=color:black>\n</text><text style=color:black>My</text><text style=color:black> name</text><text style=color:black> is</text><text style=color:black> Joseph</text><text style=color:black> Smith</text><text style=color:black>,</text><text style=color:black> and</text><text style=color:black> I</text><text style=color:black> work</text><text style=color:black> at</text><text style=color:black> Apple</text><text style=color:black>.</text><text style=color:black> I</text><text style=color:black>'m</text><text style=color:black> </text><text style=color:black>3</text><text style=color:black>2</text><text style=color:black> years</text><text style=color:black> old</text><text style=color:black>,</text><text style=color:black> and</text><text style=color:black> my</text><text style=color:black> interests</text><text style=color:black> include</text><text style=color:black> kay</text><text style=color:black>aking</text><text style=color:black>,</text><text style=color:black> skiing</text><text style=color:black>,</text><text style=color:black> snow</text><text style=color:black>boarding</text><text style=color:black>,</text><text style=color:black> and</text><text style=color:black> woodworking</text><text style=color:black>.</text><text style=color:black>\n</text><text style=color:black>\n</text><text style=color:black>```</text><text style=color:black>json</text><text style=color:black>\n\n</text><text style=color:black>{\"</text><text style=color:black>name</text><text style=color:orange>\":</text><span style='background-color: rgba(0, 165, 0, 0.25);'><text style=color:black>\":</text></span><span style='background-color: rgba(0, 165, 0, 0.25);'><text style=color:black> \"</text></span><span style='background-color: rgba(0, 165, 0, 0.25);'><text style=color:black>Joseph</text></span><span style='background-color: rgba(0, 165, 0, 0.25);'><text style=color:black> Smith</text></span><span style='background-color: rgba(0, 165, 0, 0.25);'><text style=color:black>\",</text></span><span style='background-color: rgba(0, 165, 0, 0.25);'><text style=color:black> \"</text></span><span style='background-color: rgba(0, 165, 0, 0.25);'><text style=color:black>age</text></span><span style='background-color: rgba(0, 165, 0, 0.25);'><text style=color:black>\":</text></span><span style='background-color: rgba(0, 165, 0, 0.25);'><text style=color:black> </text></span><span style='background-color: rgba(0, 165, 0, 0.25);'><text style=color:black>3</text></span><span style='background-color: rgba(0, 165, 0, 0.25);'><text style=color:black>2</text></span><span style='background-color: rgba(0, 0, 165, 0.25);'><text style=color:orange>,</text></span><span style='background-color: rgba(0, 165, 0, 0.25);'><text style=color:black>,</text></span><span style='background-color: rgba(0, 165, 0, 0.25);'><text style=color:black> \"</text></span><span style='background-color: rgba(0, 165, 0, 0.25);'><text style=color:black>occupation</text></span><span style='background-color: rgba(0, 165, 0, 0.25);'><text style=color:black>\":</text></span><span style='background-color: rgba(0, 165, 0, 0.25);'><text style=color:black> \"</text></span><span style='background-color: rgba(0, 165, 0, 0.25);'><text style=color:black>K</text></span><span style='background-color: rgba(0, 165, 0, 0.25);'><text style=color:black>ay</text></span><span style='background-color: rgba(0, 165, 0, 0.25);'><text style=color:black>aking</text></span><span style='background-color: rgba(0, 165, 0, 0.25);'><text style=color:black>\",</text></span><span style='background-color: rgba(0, 165, 0, 0.25);'><text style=color:black> \"</text></span><span style='background-color: rgba(0, 165, 0, 0.25);'><text style=color:black>location</text></span><span style='background-color: rgba(0, 0, 165, 0.25);'><text style=color:orange>\"</text></span><span style='background-color: rgba(0, 165, 0, 0.25);'><text style=color:black>\":</text></span><span style='background-color: rgba(0, 165, 0, 0.25);'><text style=color:black> \"</text></span><span style='background-color: rgba(0, 165, 0, 0.25);'><text style=color:black>A</text></span><span style='background-color: rgba(0, 165, 0, 0.25);'><text style=color:black>rizona</text></span><text style=color:red>\"}</text><span style='background-color: rgba(0, 165, 0, 0.25);'><text style=color:red>\n</text></span><span style='background-color: rgba(0, 165, 0, 0.25);'><text style=color:red>\n</text></span><text style=color:red>```</text><span style='background-color: rgba(0, 165, 0, 0.25);'><text style=color:red>\n</text></span><span style='background-color: rgba(0, 165, 0, 0.25);'><text style=color:red>\n</text></span><text style=color:red>I</text><text style=color:orange>\"</text><span style='background-color: rgba(0, 0, 165, 0.25);'><text style=color:orange>,</text></span><span style='background-color: rgba(0, 165, 0, 0.25);'><text style=color:black>\",</text></span><span style='background-color: rgba(0, 165, 0, 0.25);'><text style=color:black> \"</text></span><span style='background-color: rgba(0, 165, 0, 0.25);'><text style=color:black>location</text></span><span style='background-color: rgba(0, 165, 0, 0.25);'><text style=color:black>_</text></span><span style='background-color: rgba(0, 165, 0, 0.25);'><text style=color:black>code</text></span><span style='background-color: rgba(0, 165, 0, 0.25);'><text style=color:black>\":</text></span><span style='background-color: rgba(0, 165, 0, 0.25);'><text style=color:black> \"</text></span><span style='background-color: rgba(0, 165, 0, 0.25);'><text style=color:black>1</text></span><span style='background-color: rgba(0, 165, 0, 0.25);'><text style=color:black>2</text></span><span style='background-color: rgba(0, 165, 0, 0.25);'><text style=color:black>3</text></span><span style='background-color: rgba(0, 165, 0, 0.25);'><text style=color:black>4</text></span><span style='background-color: rgba(0, 0, 165, 0.25);'><text style=color:orange>\"</text></span><text style=color:red>\"}</text><span style='background-color: rgba(0, 165, 0, 0.25);'><text style=color:red>\n</text></span><span style='background-color: rgba(0, 165, 0, 0.25);'><text style=color:red>\n</text></span><text style=color:red>```</text><span style='background-color: rgba(0, 165, 0, 0.25);'><text style=color:red>\n</text></span><span style='background-color: rgba(0, 165, 0, 0.25);'><text style=color:red>\n</text></span><text style=color:red>I</text><text style=color:red>'m</text><text style=color:red> using</text><text style=color:red> the</text><text style=color:red> json</text><text style=color:orange>\"</text><span style='background-color: rgba(0, 0, 165, 0.25);'><text style=color:orange>,</text></span><span style='background-color: rgba(0, 165, 0, 0.25);'><text style=color:black>\",</text></span><span style='background-color: rgba(0, 165, 0, 0.25);'><text style=color:black> \"</text></span><span style='background-color: rgba(0, 165, 0, 0.25);'><text style=color:black>location</text></span><span style='background-color: rgba(0, 165, 0, 0.25);'><text style=color:black>_</text></span><span style='background-color: rgba(0, 165, 0, 0.25);'><text style=color:black>name</text></span><span style='background-color: rgba(0, 165, 0, 0.25);'><text style=color:black>\":</text></span><span style='background-color: rgba(0, 165, 0, 0.25);'><text style=color:black> \"</text></span><span style='background-color: rgba(0, 165, 0, 0.25);'><text style=color:black>Smith</text></span><span style='background-color: rgba(0, 165, 0, 0.25);'><text style=color:black>\"}</text></span><span style='background-color: rgba(0, 165, 0, 0.25);'><text style=color:black>\n</text></span><span style='background-color: rgba(0, 165, 0, 0.25);'><text style=color:black>\n</text></span></div>"
     },
     "metadata": {},
     "output_type": "display_data"
    },
    {
     "data": {
      "text/plain": "3.856700897216797"
     },
     "execution_count": 3,
     "metadata": {},
     "output_type": "execute_result"
    }
   ],
   "source": [
    "res = guide(\n",
    "    model,\n",
    "    tokenizer,\n",
    "    lark_grammar_filepath=\"../grammars/json.lark\",\n",
    "    seed_str=\"\"\"{\"name\":\"\"\",\n",
    "    prompt=dedent(\"\"\"\n",
    "    Here is a really long, nested JSON that extracts fields from this sentence:\\n\\nMy name is Joseph Smith, and I work at Apple. I'm 32 years old, and my interests include kayaking, skiing, snowboarding, and woodworking.\\n\\n```json\\n\n",
    "    \"\"\"),\n",
    "    draft_model=guidance.models.Transformers(\n",
    "        model_name_or_path, echo=False\n",
    "    ),\n",
    "    max_grammar_corrections=10,\n",
    "    max_new_tokens=10,\n",
    "    temperature=0.3,\n",
    ")\n",
    "res.process_time_seconds"
   ],
   "metadata": {
    "collapsed": false,
    "ExecuteTime": {
     "end_time": "2024-08-17T19:03:45.304853Z",
     "start_time": "2024-08-17T19:03:41.155889Z"
    }
   },
   "id": "56d2f6feb26acfbe"
  },
  {
   "cell_type": "code",
   "execution_count": 4,
   "outputs": [
    {
     "name": "stdout",
     "output_type": "stream",
     "text": [
      "{\n",
      "    \"name\": \"Joseph Smith\",\n",
      "    \"age\": 32,\n",
      "    \"occupation\": \"Kayaking\",\n",
      "    \"location\": \"Arizona\",\n",
      "    \"location_code\": \"1234\",\n",
      "    \"location_name\": \"Smith\"\n",
      "}\n"
     ]
    }
   ],
   "source": [
    "print(json.dumps(json.loads(res.response),indent=4))"
   ],
   "metadata": {
    "collapsed": false,
    "ExecuteTime": {
     "end_time": "2024-08-17T19:03:45.311838Z",
     "start_time": "2024-08-17T19:03:45.302690Z"
    }
   },
   "id": "e84a61ab994fe0bc"
  },
  {
   "cell_type": "code",
   "execution_count": 5,
   "outputs": [
    {
     "name": "stderr",
     "output_type": "stream",
     "text": [
      "\u001B[33mMade a single_candidate correction...\u001B[39m\n",
      "\u001B[33mMade a draft_gen correction...\u001B[39m\n",
      "No candidates left\n"
     ]
    },
    {
     "data": {
      "text/html": "<div style='margin: 0px; padding: 0px; font-family: ColfaxAI, Arial; font-size: 20px;'<text style=color:black>\n   </text><text style=color:black> Hello</text><text style=color:black>,</text><text style=color:black> I</text><text style=color:black> am</text><text style=color:black> your</text><text style=color:black> teacher</text><text style=color:black>.</text><text style=color:black> Today</text><text style=color:black> I</text><text style=color:black> will</text><text style=color:black> write</text><text style=color:black> you</text><text style=color:black> a</text><text style=color:black> SQL</text><text style=color:black> query</text><text style=color:black> demonstrating</text><text style=color:black> `</text><text style=color:black>IN</text><text style=color:black>NER</text><text style=color:black> JO</text><text style=color:black>IN</text><text style=color:black>`</text><text style=color:black> and</text><text style=color:black> `</text><text style=color:black>L</text><text style=color:black>IMIT</text><text style=color:black>`.</text><text style=color:black>\n</text><text style=color:black>\n</text><text style=color:black>```</text><text style=color:black>sql</text><text style=color:black>\n\n</text><text style=color:black>{\"</text><text style=color:red>name</text><text style=color:orange>\":</text><text style=color:red>\":\"</text><text style=color:red>John</text><text style=color:red>\",</text><text style=color:red> \"</text><text style=color:red>age</text><text style=color:red>\":</text><text style=color:red>3</text><text style=color:red>0</text><text style=color:red>,</text><text style=color:red> \"</text><text style=color:red>city</text><span style='background-color: rgba(0, 0, 165, 0.25);'><text style=color:blue>SELECT</text></span><span style='background-color: rgba(0, 165, 0, 0.25);'><text style=color:black> *</text></span><span style='background-color: rgba(0, 165, 0, 0.25);'><text style=color:black> FROM</text></span><span style='background-color: rgba(0, 165, 0, 0.25);'><text style=color:black> Student</text></span><span style='background-color: rgba(0, 165, 0, 0.25);'><text style=color:black> WHERE</text></span><span style='background-color: rgba(0, 165, 0, 0.25);'><text style=color:black> Name</text></span><span style='background-color: rgba(0, 165, 0, 0.25);'><text style=color:black> =</text></span><span style='background-color: rgba(0, 165, 0, 0.25);'><text style=color:black> '</text></span><span style='background-color: rgba(0, 165, 0, 0.25);'><text style=color:black>John</text></span><span style='background-color: rgba(0, 165, 0, 0.25);'><text style=color:black>'</text></span><span style='background-color: rgba(0, 165, 0, 0.25);'><text style=color:black> AND</text></span><span style='background-color: rgba(0, 165, 0, 0.25);'><text style=color:black> Age</text></span><span style='background-color: rgba(0, 0, 165, 0.25);'><text style=color:blue>>=</text></span><span style='background-color: rgba(0, 165, 0, 0.25);'><text style=color:black>2</text></span><span style='background-color: rgba(0, 165, 0, 0.25);'><text style=color:black>0</text></span><span style='background-color: rgba(0, 165, 0, 0.25);'><text style=color:black>0</text></span><span style='background-color: rgba(0, 165, 0, 0.25);'><text style=color:black>0</text></span><span style='background-color: rgba(0, 165, 0, 0.25);'><text style=color:black>;</text></span><span style='background-color: rgba(0, 165, 0, 0.25);'><text style=color:black>\n</text></span><span style='background-color: rgba(0, 165, 0, 0.25);'><text style=color:black>\n</text></span><span style='background-color: rgba(0, 165, 0, 0.25);'><text style=color:black>```</text></span><span style='background-color: rgba(0, 165, 0, 0.25);'><text style=color:black>\n</text></span><span style='background-color: rgba(0, 165, 0, 0.25);'><text style=color:black>\n</text></span><span style='background-color: rgba(0, 165, 0, 0.25);'><text style=color:black>I</text></span></div>"
     },
     "metadata": {},
     "output_type": "display_data"
    },
    {
     "data": {
      "text/plain": "2.077803134918213"
     },
     "execution_count": 5,
     "metadata": {},
     "output_type": "execute_result"
    }
   ],
   "source": [
    "res = guide(\n",
    "    model,\n",
    "    tokenizer,\n",
    "    lark_grammar_filepath=\"../grammars/sql.lark\",\n",
    "    seed_str=\"\"\"{\"name\":\"\"\",\n",
    "    prompt=dedent(\"\"\"\n",
    "    Hello, I am your teacher. Today I will write you a SQL query demonstrating `INNER JOIN` and `LIMIT`.\\n\\n```sql\\n\n",
    "    \"\"\"),\n",
    "    draft_model=guidance.models.Transformers(\n",
    "        model_name_or_path, echo=False\n",
    "    ),\n",
    "    max_grammar_corrections=10,\n",
    "    max_new_tokens=10,\n",
    "    temperature=0.3,\n",
    ")\n",
    "res.process_time_seconds"
   ],
   "metadata": {
    "collapsed": false,
    "ExecuteTime": {
     "end_time": "2024-08-17T19:03:47.675725Z",
     "start_time": "2024-08-17T19:03:45.310930Z"
    }
   },
   "id": "f44da0dc47b5b4c5"
  },
  {
   "cell_type": "code",
   "execution_count": 6,
   "outputs": [
    {
     "name": "stdout",
     "output_type": "stream",
     "text": [
      "SELECT * FROM Student WHERE Name = 'John' AND Age>=2000;\n",
      "\n"
     ]
    }
   ],
   "source": [
    "print(res.response)"
   ],
   "metadata": {
    "collapsed": false,
    "ExecuteTime": {
     "end_time": "2024-08-17T19:03:47.680452Z",
     "start_time": "2024-08-17T19:03:47.676184Z"
    }
   },
   "id": "d2d565758753b903"
  }
 ],
 "metadata": {
  "kernelspec": {
   "display_name": "Python 3",
   "language": "python",
   "name": "python3"
  },
  "language_info": {
   "codemirror_mode": {
    "name": "ipython",
    "version": 2
   },
   "file_extension": ".py",
   "mimetype": "text/x-python",
   "name": "python",
   "nbconvert_exporter": "python",
   "pygments_lexer": "ipython2",
   "version": "2.7.6"
  }
 },
 "nbformat": 4,
 "nbformat_minor": 5
}
