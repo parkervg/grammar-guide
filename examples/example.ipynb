{
 "cells": [
  {
   "cell_type": "code",
   "execution_count": 1,
   "id": "initial_id",
   "metadata": {
    "collapsed": true,
    "ExecuteTime": {
     "end_time": "2024-08-21T12:33:36.316437Z",
     "start_time": "2024-08-21T12:33:13.350433Z"
    }
   },
   "outputs": [],
   "source": [
    "from transformers import AutoModelForCausalLM, AutoTokenizer\n",
    "import guidance\n",
    "from textwrap import dedent\n",
    "import json \n",
    "\n",
    "from grammar_guide import guide, load_parser"
   ]
  },
  {
   "cell_type": "code",
   "execution_count": 2,
   "outputs": [
    {
     "data": {
      "text/plain": "tokenizer_config.json:   0%|          | 0.00/3.69k [00:00<?, ?B/s]",
      "application/vnd.jupyter.widget-view+json": {
       "version_major": 2,
       "version_minor": 0,
       "model_id": "41a884398fcb40979fa6c42120f7b25c"
      }
     },
     "metadata": {},
     "output_type": "display_data"
    }
   ],
   "source": [
    "model_name_or_path = \"HuggingFaceTB/SmolLM-360M\"\n",
    "model = AutoModelForCausalLM.from_pretrained(model_name_or_path)\n",
    "tokenizer = AutoTokenizer.from_pretrained(model_name_or_path)\n",
    "parser = load_parser(lark_grammar_filepath=\"../grammars/json.lark\")"
   ],
   "metadata": {
    "collapsed": false,
    "ExecuteTime": {
     "end_time": "2024-08-21T12:33:39.418466Z",
     "start_time": "2024-08-21T12:33:36.318706Z"
    }
   },
   "id": "3f8de4fda975943c"
  },
  {
   "cell_type": "code",
   "execution_count": 3,
   "outputs": [
    {
     "name": "stderr",
     "output_type": "stream",
     "text": [
      "/Users/a720504/miniconda3/envs/blendsql/lib/python3.9/site-packages/torchvision/io/image.py:13: UserWarning: Failed to load image Python extension: dlopen(/Users/a720504/miniconda3/envs/blendsql/lib/python3.9/site-packages/torchvision/image.so, 0x0006): Symbol not found: __ZN3c1017RegisterOperatorsD1Ev\n",
      "  Referenced from: <31D2ED80-D446-353A-885A-F2032D05B554> /Users/a720504/miniconda3/envs/blendsql/lib/python3.9/site-packages/torchvision/image.so\n",
      "  Expected in:     <709C1DF5-D253-3C66-87E2-C99FD3A259DF> /Users/a720504/miniconda3/envs/blendsql/lib/python3.9/site-packages/torch/lib/libtorch_cpu.dylib\n",
      "  warn(f\"Failed to load image Python extension: {e}\")\n",
      "Hardware accelerator e.g. GPU is available in the environment, but no `device` argument is passed to the `Pipeline` object. Model will be on CPU.\n",
      "Setting `pad_token_id` to `eos_token_id`:0 for open-end generation.\n",
      "We detected that you are passing `past_key_values` as a tuple and this is deprecated and will be removed in v4.43. Please use an appropriate `Cache` class (https://huggingface.co/docs/transformers/v4.41.3/en/internal/generation_utils#transformers.Cache)\n",
      "Setting `pad_token_id` to `eos_token_id`:0 for open-end generation.\n",
      "Setting `pad_token_id` to `eos_token_id`:0 for open-end generation.\n",
      "Setting `pad_token_id` to `eos_token_id`:0 for open-end generation.\n",
      "Setting `pad_token_id` to `eos_token_id`:0 for open-end generation.\n"
     ]
    },
    {
     "name": "stdout",
     "output_type": "stream",
     "text": [
      "11.954229831695557\n",
      "5.437405915323661\n",
      "{\"name\": \"Joseph Smith\", \"age\": 32, \"interests\": [\"skiing\", \"hunting\", \"snowboarding\", \"woodworking\"], \"work\": \"Apple\", \"email\": \"<EMAIL>\", \"phone\": \"+1 415 555 5555\"}\n"
     ]
    }
   ],
   "source": [
    "from transformers import pipeline\n",
    "pipe = pipeline(\n",
    "    \"text-generation\",\n",
    "    model=model,\n",
    "    tokenizer=tokenizer,\n",
    "    device_map=\"auto\",\n",
    "    max_new_tokens=20,\n",
    "    return_full_text=True\n",
    ")\n",
    "prompt = dedent(\"\"\"\n",
    "Here is a really long, nested JSON that extracts fields from this sentence:\\n\\nMy name is Joseph Smith, and I work at Apple. I'm 32 years old, and my interests include kayaking, skiing, snowboarding, and woodworking.\\n\\n```json\\n\n",
    "\"\"\")\n",
    "res = guide(\n",
    "    model=lambda x: pipe(x)[0]['generated_text'].lstrip(prompt),\n",
    "    parser=parser,\n",
    "    seed_str=\"\"\"{\"name\":\"\"\",\n",
    "    prompt=prompt,\n",
    "    draft_model=guidance.models.Transformers(\n",
    "        model_name_or_path, echo=False\n",
    "    ),\n",
    "    max_grammar_corrections=20,\n",
    "    verbose=False,\n",
    ")\n",
    "print(res.process_time_seconds)\n",
    "print(len(tokenizer(res.response)['input_ids']) / res.process_time_seconds)\n",
    "print(res.response)"
   ],
   "metadata": {
    "collapsed": false,
    "ExecuteTime": {
     "end_time": "2024-08-21T12:33:56.748622Z",
     "start_time": "2024-08-21T12:33:39.421895Z"
    }
   }
  },
  {
   "cell_type": "code",
   "execution_count": 4,
   "outputs": [
    {
     "name": "stdout",
     "output_type": "stream",
     "text": [
      "8.229501962661743\n",
      "6.318729886198504\n"
     ]
    }
   ],
   "source": [
    "res = guide(\n",
    "    model,\n",
    "    tokenizer=tokenizer,\n",
    "    parser=parser,\n",
    "    seed_str=\"\"\"{\"name\":\"\"\",\n",
    "    prompt=dedent(\"\"\"\n",
    "    Here is a really long, nested JSO that extracts fields from this sentence:\\n\\nMy name is Joseph Smith, and I work at Apple. I'm 32 years old, and my interests include kayaking, skiing, snowboarding, and woodworking.\\n\\n```json\\n\n",
    "    \"\"\"),\n",
    "    draft_model=guidance.models.Transformers(\n",
    "        model_name_or_path, echo=False\n",
    "    ),\n",
    "    stop_at=['```'],\n",
    "    max_grammar_corrections=20,\n",
    "    verbose=False,\n",
    "    max_new_tokens=20,\n",
    "    temperature=0.0,\n",
    ")\n",
    "print(res.process_time_seconds)\n",
    "print(len(tokenizer(res.response)['input_ids']) / res.process_time_seconds)"
   ],
   "metadata": {
    "collapsed": false,
    "ExecuteTime": {
     "end_time": "2024-08-21T12:34:05.644619Z",
     "start_time": "2024-08-21T12:33:56.753169Z"
    }
   },
   "id": "56d2f6feb26acfbe"
  },
  {
   "cell_type": "code",
   "execution_count": 5,
   "outputs": [
    {
     "name": "stdout",
     "output_type": "stream",
     "text": [
      "{\n",
      "    \"name\": \"Joseph Smith\",\n",
      "    \"age\": 32,\n",
      "    \"interests\": [\n",
      "        \"skiing\",\n",
      "        \"snowboarding\",\n",
      "        \"woodworking\"\n",
      "    ],\n",
      "    \"work\": \"Apple\",\n",
      "    \"email\": \"<EMAIL>\",\n",
      "    \"phone\": \"502-555-5555\"\n",
      "}\n"
     ]
    }
   ],
   "source": [
    "try:\n",
    "    print(json.dumps(json.loads(res.response), indent = 4))\n",
    "except:\n",
    "    print(res.response)"
   ],
   "metadata": {
    "collapsed": false,
    "ExecuteTime": {
     "end_time": "2024-08-21T12:34:05.651982Z",
     "start_time": "2024-08-21T12:34:05.648762Z"
    }
   }
  },
  {
   "cell_type": "code",
   "execution_count": 5,
   "outputs": [],
   "source": [],
   "metadata": {
    "collapsed": false,
    "ExecuteTime": {
     "end_time": "2024-08-21T12:34:05.654960Z",
     "start_time": "2024-08-21T12:34:05.652272Z"
    }
   }
  }
 ],
 "metadata": {
  "kernelspec": {
   "name": "blendsql",
   "language": "python",
   "display_name": "blendsql"
  },
  "language_info": {
   "codemirror_mode": {
    "name": "ipython",
    "version": 2
   },
   "file_extension": ".py",
   "mimetype": "text/x-python",
   "name": "python",
   "nbconvert_exporter": "python",
   "pygments_lexer": "ipython2",
   "version": "2.7.6"
  }
 },
 "nbformat": 4,
 "nbformat_minor": 5
}
