{
 "cells": [
  {
   "cell_type": "code",
   "execution_count": 10,
   "id": "initial_id",
   "metadata": {
    "collapsed": true,
    "ExecuteTime": {
     "end_time": "2024-08-20T19:56:13.058085Z",
     "start_time": "2024-08-20T19:56:13.051941Z"
    }
   },
   "outputs": [],
   "source": [
    "from transformers import AutoModelForCausalLM, AutoTokenizer\n",
    "import guidance\n",
    "from textwrap import dedent\n",
    "import json \n",
    "\n",
    "from grammar_guide import guide, load_parser"
   ]
  },
  {
   "cell_type": "code",
   "execution_count": 11,
   "outputs": [],
   "source": [
    "model_name_or_path = \"HuggingFaceTB/SmolLM-135M\"\n",
    "model = AutoModelForCausalLM.from_pretrained(model_name_or_path)\n",
    "tokenizer = AutoTokenizer.from_pretrained(model_name_or_path)\n",
    "parser = load_parser(lark_grammar_filepath=\"../grammars/json.lark\")"
   ],
   "metadata": {
    "collapsed": false,
    "ExecuteTime": {
     "end_time": "2024-08-20T19:56:13.979859Z",
     "start_time": "2024-08-20T19:56:13.398012Z"
    }
   },
   "id": "3f8de4fda975943c"
  },
  {
   "cell_type": "code",
   "execution_count": 7,
   "outputs": [],
   "source": [
    "def generate(text: str):\n",
    "    return \"\"\"{\"name\": \"John\"\"\""
   ],
   "metadata": {
    "collapsed": false,
    "ExecuteTime": {
     "end_time": "2024-08-20T19:50:26.093359Z",
     "start_time": "2024-08-20T19:50:26.090191Z"
    }
   }
  },
  {
   "cell_type": "code",
   "execution_count": 8,
   "outputs": [
    {
     "name": "stderr",
     "output_type": "stream",
     "text": [
      "\u001B[33mMade a single_candidate correction...\u001B[39m\n",
      "\u001B[33mMade a single_candidate correction...\u001B[39m\n",
      "\u001B[33mMade a single_candidate correction...\u001B[39m\n",
      "\u001B[31mCannot find a valid prediction after 3 retries\u001B[39m\n"
     ]
    }
   ],
   "source": [
    "res = guide(\n",
    "    model=generate,\n",
    "    parser=parser,\n",
    "    prompt=dedent(\"\"\"\n",
    "    Here is a really long, nested JSON that extracts fields from this sentence:\\n\\nMy name is Joseph Smith, and I work at Apple. I'm 32 years old, and my interests include kayaking, skiing, snowboarding, and woodworking.\\n\\n```json\\n\n",
    "    \"\"\"),\n",
    ")"
   ],
   "metadata": {
    "collapsed": false,
    "ExecuteTime": {
     "end_time": "2024-08-20T19:50:26.274824Z",
     "start_time": "2024-08-20T19:50:26.266954Z"
    }
   }
  },
  {
   "cell_type": "code",
   "execution_count": 14,
   "outputs": [
    {
     "name": "stderr",
     "output_type": "stream",
     "text": [
      "\u001B[33mMade a single_candidate correction...\u001B[39m\n",
      "\u001B[33mMade a single_candidate correction...\u001B[39m\n",
      "\u001B[33mMade a single_candidate correction...\u001B[39m\n",
      "\u001B[33mMade a single_candidate correction...\u001B[39m\n",
      "\u001B[33mMade a single_candidate correction...\u001B[39m\n",
      "\u001B[33mMade a single_candidate correction...\u001B[39m\n"
     ]
    },
    {
     "data": {
      "text/html": "<div style='margin: 0px; padding: 0px; font-family: ColfaxAI, Arial; font-size: 20px;'<text style=color:black>\n   </text><text style=color:black> Here</text><text style=color:black> is</text><text style=color:black> a</text><text style=color:black> really</text><text style=color:black> long</text><text style=color:black>,</text><text style=color:black> nested</text><text style=color:black> J</text><text style=color:black>SO</text><text style=color:black> that</text><text style=color:black> extracts</text><text style=color:black> fields</text><text style=color:black> from</text><text style=color:black> this</text><text style=color:black> sentence</text><text style=color:black>:</text><text style=color:black>\n</text><text style=color:black>\n</text><text style=color:black>My</text><text style=color:black> name</text><text style=color:black> is</text><text style=color:black> Joseph</text><text style=color:black> Smith</text><text style=color:black>,</text><text style=color:black> and</text><text style=color:black> I</text><text style=color:black> work</text><text style=color:black> at</text><text style=color:black> Apple</text><text style=color:black>.</text><text style=color:black> I</text><text style=color:black>'m</text><text style=color:black> </text><text style=color:black>3</text><text style=color:black>2</text><text style=color:black> years</text><text style=color:black> old</text><text style=color:black>,</text><text style=color:black> and</text><text style=color:black> my</text><text style=color:black> interests</text><text style=color:black> include</text><text style=color:black> kay</text><text style=color:black>aking</text><text style=color:black>,</text><text style=color:black> skiing</text><text style=color:black>,</text><text style=color:black> snow</text><text style=color:black>boarding</text><text style=color:black>,</text><text style=color:black> and</text><text style=color:black> woodworking</text><text style=color:black>.</text><text style=color:black>\n</text><text style=color:black>\n</text><text style=color:black>```</text><text style=color:black>json</text><text style=color:black>\n\n</text><text style=color:black>{\"</text><text style=color:black>name</text><text style=color:orange>\":</text><span style='background-color: rgba(0, 165, 0, 0.25);'><text style=color:black>\":\"</text></span><span style='background-color: rgba(0, 165, 0, 0.25);'><text style=color:black>Joseph</text></span><span style='background-color: rgba(0, 165, 0, 0.25);'><text style=color:black> Smith</text></span><span style='background-color: rgba(0, 165, 0, 0.25);'><text style=color:black>,</text></span><span style='background-color: rgba(0, 165, 0, 0.25);'><text style=color:black> </text></span><span style='background-color: rgba(0, 165, 0, 0.25);'><text style=color:black>3</text></span><span style='background-color: rgba(0, 165, 0, 0.25);'><text style=color:black>2</text></span><span style='background-color: rgba(0, 0, 165, 0.25);'><text style=color:orange>\"</text></span><span style='background-color: rgba(0, 165, 0, 0.25);'><text style=color:black>\",</text></span><span style='background-color: rgba(0, 165, 0, 0.25);'><text style=color:black> \"</text></span><span style='background-color: rgba(0, 165, 0, 0.25);'><text style=color:black>age</text></span><span style='background-color: rgba(0, 165, 0, 0.25);'><text style=color:black>\":</text></span><span style='background-color: rgba(0, 165, 0, 0.25);'><text style=color:black>3</text></span><span style='background-color: rgba(0, 165, 0, 0.25);'><text style=color:black>2</text></span><text style=color:orange>,</text><span style='background-color: rgba(0, 0, 165, 0.25);'><text style=color:orange>\"</text></span><span style='background-color: rgba(0, 165, 0, 0.25);'><text style=color:black>,</text></span><text style=color:red>\"</text><text style=color:red>job</text><text style=color:red>\":\"</text><text style=color:red>K</text><text style=color:red>ay</text><text style=color:red>ak</text><span style='background-color: rgba(0, 0, 165, 0.25);'><text style=color:orange>\"</text></span><text style=color:red>\",</text><text style=color:red> \"</text><text style=color:red>location</text><text style=color:red>\":\"</text><text style=color:red>New</text><text style=color:red> York</text><text style=color:red>\"}</text><span style='background-color: rgba(0, 165, 0, 0.25);'><text style=color:black>,\"</text></span><span style='background-color: rgba(0, 165, 0, 0.25);'><text style=color:black>job</text></span><span style='background-color: rgba(0, 165, 0, 0.25);'><text style=color:black>\":\"</text></span><span style='background-color: rgba(0, 165, 0, 0.25);'><text style=color:black>K</text></span><span style='background-color: rgba(0, 165, 0, 0.25);'><text style=color:black>ay</text></span><span style='background-color: rgba(0, 165, 0, 0.25);'><text style=color:black>ak</text></span><span style='background-color: rgba(0, 165, 0, 0.25);'><text style=color:black>\",</text></span><span style='background-color: rgba(0, 165, 0, 0.25);'><text style=color:black> \"</text></span><span style='background-color: rgba(0, 165, 0, 0.25);'><text style=color:black>location</text></span><span style='background-color: rgba(0, 165, 0, 0.25);'><text style=color:black>\":\"</text></span><span style='background-color: rgba(0, 165, 0, 0.25);'><text style=color:black>New</text></span><span style='background-color: rgba(0, 165, 0, 0.25);'><text style=color:black> York</text></span><text style=color:orange>\"</text><span style='background-color: rgba(0, 0, 165, 0.25);'><text style=color:orange>,</text></span><span style='background-color: rgba(0, 165, 0, 0.25);'><text style=color:black>\",</text></span><span style='background-color: rgba(0, 165, 0, 0.25);'><text style=color:black> \"</text></span><span style='background-color: rgba(0, 165, 0, 0.25);'><text style=color:black>occupation</text></span><span style='background-color: rgba(0, 165, 0, 0.25);'><text style=color:black>\":\"</text></span><span style='background-color: rgba(0, 165, 0, 0.25);'><text style=color:black>Sk</text></span><span style='background-color: rgba(0, 165, 0, 0.25);'><text style=color:black>i</text></span><text style=color:orange>\",</text><span style='background-color: rgba(0, 0, 165, 0.25);'><text style=color:orange>\"</text></span><span style='background-color: rgba(0, 165, 0, 0.25);'><text style=color:black>\",</text></span><span style='background-color: rgba(0, 165, 0, 0.25);'><text style=color:black>\"</text></span><span style='background-color: rgba(0, 165, 0, 0.25);'><text style=color:black>phone</text></span><span style='background-color: rgba(0, 165, 0, 0.25);'><text style=color:black>\":\"</text></span><span style='background-color: rgba(0, 165, 0, 0.25);'><text style=color:black>1</text></span><span style='background-color: rgba(0, 165, 0, 0.25);'><text style=color:black>2</text></span><span style='background-color: rgba(0, 165, 0, 0.25);'><text style=color:black>3</text></span><span style='background-color: rgba(0, 0, 165, 0.25);'><text style=color:orange>\"</text></span><span style='background-color: rgba(0, 165, 0, 0.25);'><text style=color:black>\",</text></span><span style='background-color: rgba(0, 165, 0, 0.25);'><text style=color:black> \"</text></span><span style='background-color: rgba(0, 165, 0, 0.25);'><text style=color:black>address</text></span><span style='background-color: rgba(0, 165, 0, 0.25);'><text style=color:black>\":\"</text></span><span style='background-color: rgba(0, 165, 0, 0.25);'><text style=color:black>1</text></span><span style='background-color: rgba(0, 165, 0, 0.25);'><text style=color:black>3</text></span><span style='background-color: rgba(0, 165, 0, 0.25);'><text style=color:black>0</text></span></div>"
     },
     "metadata": {},
     "output_type": "display_data"
    },
    {
     "data": {
      "text/plain": "2.3670783042907715"
     },
     "execution_count": 14,
     "metadata": {},
     "output_type": "execute_result"
    }
   ],
   "source": [
    "res = guide(\n",
    "    model,\n",
    "    tokenizer=tokenizer,\n",
    "    parser=parser,\n",
    "    seed_str=\"\"\"{\"name\":\"\"\",\n",
    "    prompt=dedent(\"\"\"\n",
    "    Here is a really long, nested JSO that extracts fields from this sentence:\\n\\nMy name is Joseph Smith, and I work at Apple. I'm 32 years old, and my interests include kayaking, skiing, snowboarding, and woodworking.\\n\\n```json\\n\n",
    "    \"\"\"),\n",
    "    draft_model=guidance.models.Transformers(\n",
    "        model_name_or_path, echo=False\n",
    "    ),\n",
    "    stop_at=['```'],\n",
    "    max_grammar_corrections=10,\n",
    "    max_new_tokens=6,\n",
    "    temperature=0.3,\n",
    ")\n",
    "res.process_time_seconds"
   ],
   "metadata": {
    "collapsed": false,
    "ExecuteTime": {
     "end_time": "2024-08-20T19:56:44.316099Z",
     "start_time": "2024-08-20T19:56:41.513022Z"
    }
   },
   "id": "56d2f6feb26acfbe"
  },
  {
   "cell_type": "code",
   "execution_count": 15,
   "outputs": [
    {
     "name": "stdout",
     "output_type": "stream",
     "text": [
      "{\n",
      "    \"name\": \"Joseph Smith, 32\",\n",
      "    \"age\": 32,\n",
      "    \"job\": \"Kayak\",\n",
      "    \"location\": \"New York\",\n",
      "    \"occupation\": \"Ski\",\n",
      "    \"phone\": \"123\"\n",
      "}\n"
     ]
    }
   ],
   "source": [
    "try:\n",
    "    print(json.dumps(json.loads(res.response), indent = 4))\n",
    "except:\n",
    "    print(res.response)"
   ],
   "metadata": {
    "collapsed": false,
    "ExecuteTime": {
     "end_time": "2024-08-20T19:56:46.507732Z",
     "start_time": "2024-08-20T19:56:46.500592Z"
    }
   }
  },
  {
   "cell_type": "code",
   "execution_count": null,
   "outputs": [],
   "source": [],
   "metadata": {
    "collapsed": false
   }
  }
 ],
 "metadata": {
  "kernelspec": {
   "name": "blendsql",
   "language": "python",
   "display_name": "blendsql"
  },
  "language_info": {
   "codemirror_mode": {
    "name": "ipython",
    "version": 2
   },
   "file_extension": ".py",
   "mimetype": "text/x-python",
   "name": "python",
   "nbconvert_exporter": "python",
   "pygments_lexer": "ipython2",
   "version": "2.7.6"
  }
 },
 "nbformat": 4,
 "nbformat_minor": 5
}
