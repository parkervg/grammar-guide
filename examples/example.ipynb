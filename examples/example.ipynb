{
 "cells": [
  {
   "cell_type": "code",
   "execution_count": 9,
   "id": "initial_id",
   "metadata": {
    "collapsed": true,
    "ExecuteTime": {
     "end_time": "2024-08-24T15:55:14.182780Z",
     "start_time": "2024-08-24T15:55:14.170617Z"
    }
   },
   "outputs": [
    {
     "data": {
      "text/plain": "True"
     },
     "execution_count": 9,
     "metadata": {},
     "output_type": "execute_result"
    }
   ],
   "source": [
    "from transformers import AutoModelForCausalLM, AutoTokenizer\n",
    "import guidance\n",
    "from textwrap import dedent\n",
    "import json \n",
    "from openai import OpenAI\n",
    "import os \n",
    "from dotenv import load_dotenv\n",
    "\n",
    "import grammar_guide as gg\n",
    "\n",
    "load_dotenv()"
   ]
  },
  {
   "cell_type": "code",
   "execution_count": 10,
   "outputs": [],
   "source": [
    "client = OpenAI(api_key=os.environ.get(\"OPENAI_API_KEY\"))"
   ],
   "metadata": {
    "collapsed": false,
    "ExecuteTime": {
     "end_time": "2024-08-24T15:55:15.155714Z",
     "start_time": "2024-08-24T15:55:15.093493Z"
    }
   },
   "id": "64c1defc58baf76e"
  },
  {
   "cell_type": "code",
   "execution_count": 11,
   "outputs": [],
   "source": [
    "model_name_or_path = \"HuggingFaceTB/SmolLM-135M\"\n",
    "model = AutoModelForCausalLM.from_pretrained(model_name_or_path)\n",
    "tokenizer = AutoTokenizer.from_pretrained(model_name_or_path)\n",
    "parser = gg.load_parser(lark_grammar_filepath=\"../grammars/json.lark\")"
   ],
   "metadata": {
    "collapsed": false,
    "ExecuteTime": {
     "end_time": "2024-08-24T15:55:20.749602Z",
     "start_time": "2024-08-24T15:55:20.171160Z"
    }
   },
   "id": "3f8de4fda975943c"
  },
  {
   "cell_type": "code",
   "execution_count": 12,
   "outputs": [],
   "source": [
    "def openai_generate(s: str) -> str:\n",
    "    chat_completion = client.chat.completions.create(\n",
    "        messages=[\n",
    "            {\n",
    "                \"role\": \"assistant\",\n",
    "                \"content\": s,\n",
    "            }\n",
    "        ],\n",
    "        model=\"gpt-3.5-turbo\",\n",
    "    )\n",
    "    return chat_completion.choices[0].message.content"
   ],
   "metadata": {
    "collapsed": false,
    "ExecuteTime": {
     "end_time": "2024-08-24T15:55:22.477835Z",
     "start_time": "2024-08-24T15:55:22.469199Z"
    }
   },
   "id": "fed89610fed9d22"
  },
  {
   "cell_type": "code",
   "execution_count": 14,
   "outputs": [
    {
     "name": "stdout",
     "output_type": "stream",
     "text": [
      "SELECT \n",
      "DISPENSE_STATUS,\n",
      "SUM(CASE WHEN DISPENSE_STATUS = 'completed' THEN 1 ELSE 0 END) AS completed_count,\n",
      "SUM(CASE WHEN DISPENSE_STATUS = 'in progress' THEN 1 ELSE 0 END) AS in_progress_count,\n",
      "SUM(CASE WHEN DISPENSE_STATUS = 'pending' THEN 1 ELSE 0 END) AS pending_count\n",
      "FROM DISPENSE\n",
      "GROUP BY DISPENSE_STATUS;\n",
      "1.8693230152130127\n",
      "63.65940986739509\n",
      "SELECT \n",
      "DISPENSE_STATUS,\n",
      "SUM(CASE WHEN DISPENSE_STATUS = 'completed' THEN 1 ELSE 0 END) AS completed_count,\n",
      "SUM(CASE WHEN DISPENSE_STATUS = 'in progress' THEN 1 ELSE 0 END) AS in_progress_count,\n",
      "SUM(CASE WHEN DISPENSE_STATUS = 'pending' THEN 1 ELSE 0 END) AS pending_count\n",
      "FROM DISPENSE\n",
      "GROUP BY DISPENSE_STATUS;\n"
     ]
    }
   ],
   "source": [
    "prompt = dedent(\"\"\"\n",
    "Here is a really long, nested JSON that extracts fields from this sentence:\\n\\nMy name is Joseph Smith, and I work at Apple. I'm 32 years old, and my interests include kayaking, skiing, snowboarding, and woodworking.\\n\\n```json\\n\n",
    "\"\"\")\n",
    "res = gg.guide(\n",
    "    model=openai_generate,\n",
    "    parser=gg.load_parser(lark_grammar_filepath=\"../grammars/sql.lark\"),\n",
    "    prompt=\"Here's a long, complex SQL function:\",\n",
    "    draft_model=guidance.models.Transformers(\n",
    "        model_name_or_path, echo=False\n",
    "    ),\n",
    "    max_grammar_corrections=20,\n",
    "    verbose=True,\n",
    ")\n",
    "print(res.process_time_seconds)\n",
    "print(len(tokenizer(res.response)['input_ids']) / res.process_time_seconds)\n",
    "print(res.response)"
   ],
   "metadata": {
    "collapsed": false,
    "ExecuteTime": {
     "end_time": "2024-08-24T15:57:15.453382Z",
     "start_time": "2024-08-24T15:57:12.981650Z"
    }
   },
   "id": "1fab50a7c4ffe932"
  },
  {
   "cell_type": "code",
   "execution_count": 15,
   "outputs": [
    {
     "data": {
      "text/plain": "[]"
     },
     "execution_count": 15,
     "metadata": {},
     "output_type": "execute_result"
    }
   ],
   "source": [
    "res.correction_log"
   ],
   "metadata": {
    "collapsed": false,
    "ExecuteTime": {
     "end_time": "2024-08-24T15:57:20.121018Z",
     "start_time": "2024-08-24T15:57:20.113857Z"
    }
   },
   "id": "94ece5539a06e90a"
  },
  {
   "cell_type": "code",
   "execution_count": 17,
   "outputs": [
    {
     "name": "stderr",
     "output_type": "stream",
     "text": [
      "\u001B[33mMade a draft_gen correction...\u001B[39m\n",
      "\u001B[33mMade a draft_gen correction...\u001B[39m\n",
      "\u001B[33mMade a draft_gen correction...\u001B[39m\n",
      "\u001B[33mMade a draft_gen correction...\u001B[39m\n",
      "\u001B[33mMade a draft_gen correction...\u001B[39m\n",
      "\u001B[33mMade a draft_gen correction...\u001B[39m\n",
      "\u001B[33mMade a draft_gen correction...\u001B[39m\n",
      "\u001B[33mMade a draft_gen correction...\u001B[39m\n",
      "\u001B[33mMade a draft_gen correction...\u001B[39m\n",
      "\u001B[33mMade a draft_gen correction...\u001B[39m\n",
      "\u001B[33mMade a draft_gen correction...\u001B[39m\n",
      "\u001B[33mMade a draft_gen correction...\u001B[39m\n",
      "\u001B[33mMade a draft_gen correction...\u001B[39m\n",
      "\u001B[33mMade a draft_gen correction...\u001B[39m\n",
      "\u001B[33mMade a draft_gen correction...\u001B[39m\n",
      "\u001B[33mMade a single_candidate correction...\u001B[39m\n"
     ]
    },
    {
     "data": {
      "text/html": "<div style='margin: 0px; padding: 0px; font-family: ColfaxAI, Arial; font-size: 20px;'<text style=color:black>Here</text><text style=color:black>'s</text><text style=color:black> a</text><text style=color:black> long</text><text style=color:black>,</text><text style=color:black> complex</text><text style=color:black> SQL</text><text style=color:black> function</text><text style=color:black>:</text><text style=color:black>SELECT</text><span style='background-color: rgba(0, 165, 0, 0.25);'><text style=color:black> *</text></span><span style='background-color: rgba(0, 165, 0, 0.25);'><text style=color:black> FROM</text></span><span style='background-color: rgba(0, 165, 0, 0.25);'><text style=color:black> table</text></span><span style='background-color: rgba(0, 165, 0, 0.25);'><text style=color:black> WHERE</text></span><span style='background-color: rgba(0, 165, 0, 0.25);'><text style=color:black> column</text></span><span style='background-color: rgba(0, 165, 0, 0.25);'><text style=color:black>1</text></span><span style='background-color: rgba(0, 165, 0, 0.25);'><text style=color:black> =</text></span><span style='background-color: rgba(0, 165, 0, 0.25);'><text style=color:black> '</text></span><span style='background-color: rgba(0, 165, 0, 0.25);'><text style=color:black>a</text></span><span style='background-color: rgba(0, 165, 0, 0.25);'><text style=color:black>'</text></span><span style='background-color: rgba(0, 165, 0, 0.25);'><text style=color:black> AND</text></span><span style='background-color: rgba(0, 165, 0, 0.25);'><text style=color:black> column</text></span><span style='background-color: rgba(0, 165, 0, 0.25);'><text style=color:black>2</text></span><span style='background-color: rgba(0, 165, 0, 0.25);'><text style=color:black> =</text></span><span style='background-color: rgba(0, 165, 0, 0.25);'><text style=color:black> '</text></span><span style='background-color: rgba(0, 165, 0, 0.25);'><text style=color:black>b</text></span><span style='background-color: rgba(0, 165, 0, 0.25);'><text style=color:black>'</text></span><span style='background-color: rgba(0, 165, 0, 0.25);'><text style=color:black> AND</text></span><span style='background-color: rgba(0, 165, 0, 0.25);'><text style=color:black> column</text></span><span style='background-color: rgba(0, 165, 0, 0.25);'><text style=color:black>3</text></span><span style='background-color: rgba(0, 165, 0, 0.25);'><text style=color:black> =</text></span><span style='background-color: rgba(0, 0, 165, 0.25);'><text style=color:orange>(</text></span><span style='background-color: rgba(0, 165, 0, 0.25);'><text style=color:black>('</text></span><span style='background-color: rgba(0, 165, 0, 0.25);'><text style=color:black>c</text></span><text style=color:red>')</text><text style=color:red> AND</text><text style=color:red> column</text><text style=color:red>4</text><text style=color:red> =</text><text style=color:red> '</text><text style=color:red>d</text><text style=color:red>'</text><text style=color:red> AND</text><text style=color:red> column</text><text style=color:red>5</text><text style=color:red> =</text><text style=color:red> '</text><text style=color:red>e</text><text style=color:red>'</text><text style=color:red> AND</text><text style=color:red> column</text><text style=color:red>6</text><text style=color:red> =</text><span style='background-color: rgba(0, 165, 0, 0.25);'><text style=color:black>'</text></span><span style='background-color: rgba(0, 0, 165, 0.25);'><text style=color:orange>*</text></span><span style='background-color: rgba(0, 165, 0, 0.25);'><text style=color:black>*</text></span><span style='background-color: rgba(0, 165, 0, 0.25);'><text style=color:black>2</text></span><span style='background-color: rgba(0, 165, 0, 0.25);'><text style=color:black>)</text></span><span style='background-color: rgba(0, 165, 0, 0.25);'><text style=color:black> AND</text></span><span style='background-color: rgba(0, 165, 0, 0.25);'><text style=color:black> column</text></span><span style='background-color: rgba(0, 165, 0, 0.25);'><text style=color:black>4</text></span><span style='background-color: rgba(0, 165, 0, 0.25);'><text style=color:black> =</text></span><span style='background-color: rgba(0, 165, 0, 0.25);'><text style=color:black> '</text></span><span style='background-color: rgba(0, 165, 0, 0.25);'><text style=color:black>d</text></span><span style='background-color: rgba(0, 165, 0, 0.25);'><text style=color:black>'</text></span><span style='background-color: rgba(0, 165, 0, 0.25);'><text style=color:black> AND</text></span><span style='background-color: rgba(0, 165, 0, 0.25);'><text style=color:black> column</text></span><span style='background-color: rgba(0, 165, 0, 0.25);'><text style=color:black>5</text></span><span style='background-color: rgba(0, 165, 0, 0.25);'><text style=color:black> =</text></span><span style='background-color: rgba(0, 165, 0, 0.25);'><text style=color:black> '</text></span><span style='background-color: rgba(0, 165, 0, 0.25);'><text style=color:black>e</text></span><span style='background-color: rgba(0, 165, 0, 0.25);'><text style=color:black>'</text></span><span style='background-color: rgba(0, 165, 0, 0.25);'><text style=color:black> AND</text></span><span style='background-color: rgba(0, 165, 0, 0.25);'><text style=color:black> column</text></span><span style='background-color: rgba(0, 165, 0, 0.25);'><text style=color:black>6</text></span><span style='background-color: rgba(0, 165, 0, 0.25);'><text style=color:black> =</text></span><span style='background-color: rgba(0, 0, 165, 0.25);'><text style=color:orange>(</text></span><span style='background-color: rgba(0, 165, 0, 0.25);'><text style=color:black>('</text></span><span style='background-color: rgba(0, 165, 0, 0.25);'><text style=color:black>f</text></span><span style='background-color: rgba(0, 165, 0, 0.25);'><text style=color:black>'</text></span><span style='background-color: rgba(0, 165, 0, 0.25);'><text style=color:black>*</text></span><span style='background-color: rgba(0, 165, 0, 0.25);'><text style=color:black>2</text></span><span style='background-color: rgba(0, 165, 0, 0.25);'><text style=color:black>)</text></span><span style='background-color: rgba(0, 165, 0, 0.25);'><text style=color:black> AND</text></span><span style='background-color: rgba(0, 165, 0, 0.25);'><text style=color:black> column</text></span><span style='background-color: rgba(0, 165, 0, 0.25);'><text style=color:black>7</text></span><span style='background-color: rgba(0, 165, 0, 0.25);'><text style=color:black> =</text></span><span style='background-color: rgba(0, 165, 0, 0.25);'><text style=color:black> '</text></span><span style='background-color: rgba(0, 165, 0, 0.25);'><text style=color:black>g</text></span><span style='background-color: rgba(0, 165, 0, 0.25);'><text style=color:black>'</text></span><span style='background-color: rgba(0, 165, 0, 0.25);'><text style=color:black> AND</text></span><span style='background-color: rgba(0, 165, 0, 0.25);'><text style=color:black> column</text></span><span style='background-color: rgba(0, 165, 0, 0.25);'><text style=color:black>8</text></span><span style='background-color: rgba(0, 165, 0, 0.25);'><text style=color:black> =</text></span><span style='background-color: rgba(0, 165, 0, 0.25);'><text style=color:black> '</text></span><span style='background-color: rgba(0, 165, 0, 0.25);'><text style=color:black>h</text></span><span style='background-color: rgba(0, 165, 0, 0.25);'><text style=color:black>'</text></span><span style='background-color: rgba(0, 165, 0, 0.25);'><text style=color:black> AND</text></span><span style='background-color: rgba(0, 0, 165, 0.25);'><text style=color:orange>(</text></span><span style='background-color: rgba(0, 165, 0, 0.25);'><text style=color:black>(</text></span><span style='background-color: rgba(0, 165, 0, 0.25);'><text style=color:black>column</text></span><span style='background-color: rgba(0, 165, 0, 0.25);'><text style=color:black>1</text></span><span style='background-color: rgba(0, 165, 0, 0.25);'><text style=color:black> =</text></span><span style='background-color: rgba(0, 165, 0, 0.25);'><text style=color:black> '</text></span><span style='background-color: rgba(0, 165, 0, 0.25);'><text style=color:black>a</text></span><span style='background-color: rgba(0, 165, 0, 0.25);'><text style=color:black>'</text></span><span style='background-color: rgba(0, 165, 0, 0.25);'><text style=color:black> AND</text></span><span style='background-color: rgba(0, 165, 0, 0.25);'><text style=color:black> column</text></span><span style='background-color: rgba(0, 165, 0, 0.25);'><text style=color:black>2</text></span><span style='background-color: rgba(0, 165, 0, 0.25);'><text style=color:black> =</text></span><span style='background-color: rgba(0, 165, 0, 0.25);'><text style=color:black> '</text></span><span style='background-color: rgba(0, 165, 0, 0.25);'><text style=color:black>b</text></span><span style='background-color: rgba(0, 165, 0, 0.25);'><text style=color:black>'</text></span><span style='background-color: rgba(0, 165, 0, 0.25);'><text style=color:black> AND</text></span><span style='background-color: rgba(0, 165, 0, 0.25);'><text style=color:black> column</text></span><span style='background-color: rgba(0, 165, 0, 0.25);'><text style=color:black>3</text></span><span style='background-color: rgba(0, 165, 0, 0.25);'><text style=color:black> =</text></span><span style='background-color: rgba(0, 165, 0, 0.25);'><text style=color:black> '</text></span><span style='background-color: rgba(0, 165, 0, 0.25);'><text style=color:black>c</text></span><span style='background-color: rgba(0, 165, 0, 0.25);'><text style=color:black>'</text></span><span style='background-color: rgba(0, 0, 165, 0.25);'><text style=color:blue>AND</text></span><span style='background-color: rgba(0, 165, 0, 0.25);'><text style=color:black> column</text></span><span style='background-color: rgba(0, 165, 0, 0.25);'><text style=color:black>4</text></span><span style='background-color: rgba(0, 165, 0, 0.25);'><text style=color:black> =</text></span><span style='background-color: rgba(0, 165, 0, 0.25);'><text style=color:black> '</text></span><span style='background-color: rgba(0, 165, 0, 0.25);'><text style=color:black>d</text></span><span style='background-color: rgba(0, 165, 0, 0.25);'><text style=color:black>'</text></span><span style='background-color: rgba(0, 165, 0, 0.25);'><text style=color:black> AND</text></span><span style='background-color: rgba(0, 165, 0, 0.25);'><text style=color:black> column</text></span><span style='background-color: rgba(0, 165, 0, 0.25);'><text style=color:black>5</text></span><span style='background-color: rgba(0, 165, 0, 0.25);'><text style=color:black> =</text></span><span style='background-color: rgba(0, 165, 0, 0.25);'><text style=color:black> '</text></span><span style='background-color: rgba(0, 165, 0, 0.25);'><text style=color:black>e</text></span><span style='background-color: rgba(0, 165, 0, 0.25);'><text style=color:black>'</text></span><span style='background-color: rgba(0, 165, 0, 0.25);'><text style=color:black> AND</text></span><span style='background-color: rgba(0, 165, 0, 0.25);'><text style=color:black> column</text></span><span style='background-color: rgba(0, 165, 0, 0.25);'><text style=color:black>6</text></span><span style='background-color: rgba(0, 165, 0, 0.25);'><text style=color:black> =</text></span><span style='background-color: rgba(0, 165, 0, 0.25);'><text style=color:black> '</text></span><span style='background-color: rgba(0, 165, 0, 0.25);'><text style=color:black>f</text></span><span style='background-color: rgba(0, 165, 0, 0.25);'><text style=color:black>'</text></span><span style='background-color: rgba(0, 165, 0, 0.25);'><text style=color:black> AND</text></span><span style='background-color: rgba(0, 0, 165, 0.25);'><text style=color:orange>(</text></span><span style='background-color: rgba(0, 165, 0, 0.25);'><text style=color:black>(</text></span><span style='background-color: rgba(0, 165, 0, 0.25);'><text style=color:black>column</text></span><span style='background-color: rgba(0, 165, 0, 0.25);'><text style=color:black>7</text></span><span style='background-color: rgba(0, 165, 0, 0.25);'><text style=color:black> =</text></span><span style='background-color: rgba(0, 165, 0, 0.25);'><text style=color:black> '</text></span><span style='background-color: rgba(0, 165, 0, 0.25);'><text style=color:black>g</text></span><span style='background-color: rgba(0, 165, 0, 0.25);'><text style=color:black>'</text></span><span style='background-color: rgba(0, 165, 0, 0.25);'><text style=color:black> AND</text></span><span style='background-color: rgba(0, 165, 0, 0.25);'><text style=color:black> column</text></span><span style='background-color: rgba(0, 165, 0, 0.25);'><text style=color:black>8</text></span><span style='background-color: rgba(0, 165, 0, 0.25);'><text style=color:black> =</text></span><span style='background-color: rgba(0, 165, 0, 0.25);'><text style=color:black> '</text></span><span style='background-color: rgba(0, 165, 0, 0.25);'><text style=color:black>h</text></span><span style='background-color: rgba(0, 165, 0, 0.25);'><text style=color:black>'</text></span><span style='background-color: rgba(0, 165, 0, 0.25);'><text style=color:black> AND</text></span><span style='background-color: rgba(0, 165, 0, 0.25);'><text style=color:black> column</text></span><span style='background-color: rgba(0, 165, 0, 0.25);'><text style=color:black>1</text></span><span style='background-color: rgba(0, 165, 0, 0.25);'><text style=color:black> =</text></span><span style='background-color: rgba(0, 165, 0, 0.25);'><text style=color:black> '</text></span><span style='background-color: rgba(0, 165, 0, 0.25);'><text style=color:black>a</text></span><span style='background-color: rgba(0, 165, 0, 0.25);'><text style=color:black>'</text></span><span style='background-color: rgba(0, 0, 165, 0.25);'><text style=color:blue>AND</text></span><span style='background-color: rgba(0, 165, 0, 0.25);'><text style=color:black> column</text></span><span style='background-color: rgba(0, 165, 0, 0.25);'><text style=color:black>2</text></span><span style='background-color: rgba(0, 165, 0, 0.25);'><text style=color:black> =</text></span><span style='background-color: rgba(0, 165, 0, 0.25);'><text style=color:black> '</text></span><span style='background-color: rgba(0, 165, 0, 0.25);'><text style=color:black>b</text></span><span style='background-color: rgba(0, 165, 0, 0.25);'><text style=color:black>'</text></span><span style='background-color: rgba(0, 165, 0, 0.25);'><text style=color:black> AND</text></span><span style='background-color: rgba(0, 165, 0, 0.25);'><text style=color:black> column</text></span><span style='background-color: rgba(0, 165, 0, 0.25);'><text style=color:black>3</text></span><span style='background-color: rgba(0, 165, 0, 0.25);'><text style=color:black> =</text></span><span style='background-color: rgba(0, 165, 0, 0.25);'><text style=color:black> '</text></span><span style='background-color: rgba(0, 165, 0, 0.25);'><text style=color:black>c</text></span><span style='background-color: rgba(0, 165, 0, 0.25);'><text style=color:black>'</text></span><span style='background-color: rgba(0, 165, 0, 0.25);'><text style=color:black> AND</text></span><span style='background-color: rgba(0, 165, 0, 0.25);'><text style=color:black> column</text></span><span style='background-color: rgba(0, 165, 0, 0.25);'><text style=color:black>4</text></span><span style='background-color: rgba(0, 165, 0, 0.25);'><text style=color:black> =</text></span><span style='background-color: rgba(0, 165, 0, 0.25);'><text style=color:black> '</text></span><span style='background-color: rgba(0, 165, 0, 0.25);'><text style=color:black>d</text></span><span style='background-color: rgba(0, 165, 0, 0.25);'><text style=color:black>'</text></span><span style='background-color: rgba(0, 165, 0, 0.25);'><text style=color:black> AND</text></span><span style='background-color: rgba(0, 0, 165, 0.25);'><text style=color:orange>(</text></span><span style='background-color: rgba(0, 165, 0, 0.25);'><text style=color:black>(</text></span><span style='background-color: rgba(0, 165, 0, 0.25);'><text style=color:black>column</text></span><span style='background-color: rgba(0, 165, 0, 0.25);'><text style=color:black>7</text></span><span style='background-color: rgba(0, 165, 0, 0.25);'><text style=color:black> =</text></span><span style='background-color: rgba(0, 165, 0, 0.25);'><text style=color:black> '</text></span><span style='background-color: rgba(0, 165, 0, 0.25);'><text style=color:black>g</text></span><span style='background-color: rgba(0, 165, 0, 0.25);'><text style=color:black>'</text></span><span style='background-color: rgba(0, 165, 0, 0.25);'><text style=color:black> AND</text></span><span style='background-color: rgba(0, 165, 0, 0.25);'><text style=color:black> column</text></span><span style='background-color: rgba(0, 165, 0, 0.25);'><text style=color:black>8</text></span><span style='background-color: rgba(0, 165, 0, 0.25);'><text style=color:black> =</text></span><span style='background-color: rgba(0, 165, 0, 0.25);'><text style=color:black> '</text></span><span style='background-color: rgba(0, 165, 0, 0.25);'><text style=color:black>h</text></span><span style='background-color: rgba(0, 165, 0, 0.25);'><text style=color:black>'</text></span><span style='background-color: rgba(0, 165, 0, 0.25);'><text style=color:black> AND</text></span><span style='background-color: rgba(0, 165, 0, 0.25);'><text style=color:black> column</text></span><span style='background-color: rgba(0, 165, 0, 0.25);'><text style=color:black>1</text></span><span style='background-color: rgba(0, 165, 0, 0.25);'><text style=color:black> =</text></span><text style=color:red> '</text><text style=color:red>a</text><text style=color:red>AND</text><text style=color:orange> </text><span style='background-color: rgba(0, 0, 165, 0.25);'><text style=color:orange>(</text></span><text style=color:red> </text><text style=color:red>('</text><text style=color:red>a</text><text style=color:red>'</text><text style=color:red> AND</text><text style=color:red> column</text><text style=color:red>2</text><text style=color:red> =</text><text style=color:red> '</text><text style=color:red>b</text><text style=color:red>'</text><text style=color:red> AND</text><text style=color:red> column</text><text style=color:red>3</text><text style=color:red> =</text><text style=color:red> '</text><text style=color:red>c</text><text style=color:red>'</text><text style=color:red> AND</text><text style=color:red> column</text><text style=color:red>4</text><span style='background-color: rgba(0, 165, 0, 0.25);'><text style=color:black> ('</text></span><span style='background-color: rgba(0, 165, 0, 0.25);'><text style=color:black>a</text></span><span style='background-color: rgba(0, 165, 0, 0.25);'><text style=color:black>'</text></span><text style=color:orange> </text><span style='background-color: rgba(0, 0, 165, 0.25);'><text style=color:orange>*</text></span><span style='background-color: rgba(0, 165, 0, 0.25);'><text style=color:black> *</text></span><span style='background-color: rgba(0, 165, 0, 0.25);'><text style=color:black> </text></span><span style='background-color: rgba(0, 165, 0, 0.25);'><text style=color:black>2</text></span><span style='background-color: rgba(0, 165, 0, 0.25);'><text style=color:black>))</text></span><span style='background-color: rgba(0, 165, 0, 0.25);'><text style=color:black> AND</text></span><span style='background-color: rgba(0, 165, 0, 0.25);'><text style=color:black> column</text></span><span style='background-color: rgba(0, 165, 0, 0.25);'><text style=color:black>9</text></span><span style='background-color: rgba(0, 165, 0, 0.25);'><text style=color:black> =</text></span><span style='background-color: rgba(0, 165, 0, 0.25);'><text style=color:black> '</text></span><span style='background-color: rgba(0, 165, 0, 0.25);'><text style=color:black>i</text></span><span style='background-color: rgba(0, 165, 0, 0.25);'><text style=color:black>'</text></span><span style='background-color: rgba(0, 165, 0, 0.25);'><text style=color:black> AND</text></span><span style='background-color: rgba(0, 165, 0, 0.25);'><text style=color:black> column</text></span><span style='background-color: rgba(0, 165, 0, 0.25);'><text style=color:black>1</text></span><span style='background-color: rgba(0, 165, 0, 0.25);'><text style=color:black>0</text></span><span style='background-color: rgba(0, 165, 0, 0.25);'><text style=color:black> =</text></span><span style='background-color: rgba(0, 165, 0, 0.25);'><text style=color:black> '</text></span><span style='background-color: rgba(0, 165, 0, 0.25);'><text style=color:black>j</text></span><span style='background-color: rgba(0, 165, 0, 0.25);'><text style=color:black>'</text></span><span style='background-color: rgba(0, 165, 0, 0.25);'><text style=color:black> AND</text></span><span style='background-color: rgba(0, 165, 0, 0.25);'><text style=color:black> column</text></span><span style='background-color: rgba(0, 0, 165, 0.25);'><text style=color:orange>=</text></span><span style='background-color: rgba(0, 165, 0, 0.25);'><text style=color:black>=</text></span><span style='background-color: rgba(0, 165, 0, 0.25);'><text style=color:black> '</text></span><span style='background-color: rgba(0, 165, 0, 0.25);'><text style=color:black>k</text></span><span style='background-color: rgba(0, 165, 0, 0.25);'><text style=color:black>'</text></span><span style='background-color: rgba(0, 165, 0, 0.25);'><text style=color:black> AND</text></span><span style='background-color: rgba(0, 165, 0, 0.25);'><text style=color:black> column</text></span><span style='background-color: rgba(0, 165, 0, 0.25);'><text style=color:black>=</text></span><span style='background-color: rgba(0, 165, 0, 0.25);'><text style=color:black> '</text></span><span style='background-color: rgba(0, 165, 0, 0.25);'><text style=color:black>l</text></span><span style='background-color: rgba(0, 165, 0, 0.25);'><text style=color:black>'</text></span><span style='background-color: rgba(0, 165, 0, 0.25);'><text style=color:black> AND</text></span><span style='background-color: rgba(0, 165, 0, 0.25);'><text style=color:black> column</text></span><span style='background-color: rgba(0, 165, 0, 0.25);'><text style=color:black>=</text></span><span style='background-color: rgba(0, 165, 0, 0.25);'><text style=color:black> '</text></span><span style='background-color: rgba(0, 165, 0, 0.25);'><text style=color:black>m</text></span><span style='background-color: rgba(0, 165, 0, 0.25);'><text style=color:black>'</text></span><span style='background-color: rgba(0, 165, 0, 0.25);'><text style=color:black> AND</text></span><span style='background-color: rgba(0, 165, 0, 0.25);'><text style=color:black> column</text></span><span style='background-color: rgba(0, 165, 0, 0.25);'><text style=color:black>=</text></span><text style=color:red> '</text><text style=color:red>n</text><text style=color:orange> </text><span style='background-color: rgba(0, 0, 165, 0.25);'><text style=color:orange>(</text></span><text style=color:red> </text><text style=color:red>('</text><text style=color:red>'</text><text style=color:red> *</text><text style=color:red> </text><text style=color:red>2</text><text style=color:red>))</text><text style=color:red> AND</text><text style=color:red> column</text><text style=color:red>1</text><text style=color:red>1</text><text style=color:red> =</text><text style=color:red> '</text><text style=color:red>n</text><text style=color:red>'</text><text style=color:red> AND</text><text style=color:red> column</text><text style=color:red>1</text><text style=color:red>2</text><text style=color:red> =</text><text style=color:red> '</text><span style='background-color: rgba(0, 165, 0, 0.25);'><text style=color:black> (</text></span><span style='background-color: rgba(0, 165, 0, 0.25);'><text style=color:black>''</text></span><span style='background-color: rgba(0, 165, 0, 0.25);'><text style=color:black> *</text></span><span style='background-color: rgba(0, 165, 0, 0.25);'><text style=color:black> </text></span><span style='background-color: rgba(0, 165, 0, 0.25);'><text style=color:black>2</text></span><span style='background-color: rgba(0, 165, 0, 0.25);'><text style=color:black>))</text></span><span style='background-color: rgba(0, 165, 0, 0.25);'><text style=color:black> AND</text></span><span style='background-color: rgba(0, 165, 0, 0.25);'><text style=color:black> column</text></span><span style='background-color: rgba(0, 165, 0, 0.25);'><text style=color:black>1</text></span><span style='background-color: rgba(0, 165, 0, 0.25);'><text style=color:black>1</text></span><span style='background-color: rgba(0, 165, 0, 0.25);'><text style=color:black> =</text></span><span style='background-color: rgba(0, 165, 0, 0.25);'><text style=color:black> '</text></span><span style='background-color: rgba(0, 165, 0, 0.25);'><text style=color:black>n</text></span><span style='background-color: rgba(0, 165, 0, 0.25);'><text style=color:black>'</text></span><span style='background-color: rgba(0, 165, 0, 0.25);'><text style=color:black> AND</text></span><span style='background-color: rgba(0, 165, 0, 0.25);'><text style=color:black> column</text></span><span style='background-color: rgba(0, 165, 0, 0.25);'><text style=color:black>1</text></span><span style='background-color: rgba(0, 165, 0, 0.25);'><text style=color:black>2</text></span><span style='background-color: rgba(0, 165, 0, 0.25);'><text style=color:black> =</text></span><text style=color:orange> </text><span style='background-color: rgba(0, 0, 165, 0.25);'><text style=color:orange>(</text></span><text style=color:red> </text><text style=color:red>('</text><text style=color:red>'</text><text style=color:red> *</text><text style=color:red> </text><text style=color:red>2</text><text style=color:red>))</text><text style=color:red> AND</text><text style=color:red> column</text><text style=color:red>1</text><text style=color:red>2</text><text style=color:red> =</text><text style=color:red> '</text><text style=color:red>o</text><text style=color:red>'</text><text style=color:red> AND</text><text style=color:red> column</text><text style=color:red>1</text><text style=color:red> =</text><text style=color:red> </text><text style=color:red> ('</text><span style='background-color: rgba(0, 165, 0, 0.25);'><text style=color:black> (</text></span><span style='background-color: rgba(0, 165, 0, 0.25);'><text style=color:black>''</text></span><span style='background-color: rgba(0, 165, 0, 0.25);'><text style=color:black> *</text></span><span style='background-color: rgba(0, 165, 0, 0.25);'><text style=color:black> </text></span><span style='background-color: rgba(0, 165, 0, 0.25);'><text style=color:black>2</text></span><span style='background-color: rgba(0, 165, 0, 0.25);'><text style=color:black>))</text></span><span style='background-color: rgba(0, 165, 0, 0.25);'><text style=color:black> AND</text></span><span style='background-color: rgba(0, 165, 0, 0.25);'><text style=color:black> column</text></span><span style='background-color: rgba(0, 165, 0, 0.25);'><text style=color:black>1</text></span><span style='background-color: rgba(0, 165, 0, 0.25);'><text style=color:black>2</text></span><span style='background-color: rgba(0, 165, 0, 0.25);'><text style=color:black> =</text></span><span style='background-color: rgba(0, 165, 0, 0.25);'><text style=color:black> '</text></span><span style='background-color: rgba(0, 165, 0, 0.25);'><text style=color:black>o</text></span><span style='background-color: rgba(0, 165, 0, 0.25);'><text style=color:black>'</text></span><span style='background-color: rgba(0, 165, 0, 0.25);'><text style=color:black> AND</text></span><span style='background-color: rgba(0, 165, 0, 0.25);'><text style=color:black> column</text></span><span style='background-color: rgba(0, 165, 0, 0.25);'><text style=color:black>1</text></span><span style='background-color: rgba(0, 165, 0, 0.25);'><text style=color:black> =</text></span><span style='background-color: rgba(0, 165, 0, 0.25);'><text style=color:black> </text></span><text style=color:orange> (</text><span style='background-color: rgba(0, 0, 165, 0.25);'><text style=color:orange>(</text></span><span style='background-color: rgba(0, 165, 0, 0.25);'><text style=color:black> (</text></span><span style='background-color: rgba(0, 165, 0, 0.25);'><text style=color:black>('</text></span><span style='background-color: rgba(0, 165, 0, 0.25);'><text style=color:black>'</text></span><span style='background-color: rgba(0, 165, 0, 0.25);'><text style=color:black> *</text></span><span style='background-color: rgba(0, 165, 0, 0.25);'><text style=color:black> </text></span><span style='background-color: rgba(0, 165, 0, 0.25);'><text style=color:black>2</text></span><text style=color:red>))</text><text style=color:red> AND</text><text style=color:red> column</text><text style=color:red>1</text><text style=color:red>3</text><text style=color:red> =</text><text style=color:red> '</text><text style=color:red>p</text><text style=color:red>'</text><text style=color:red> AND</text><text style=color:red> column</text><text style=color:red>1</text><text style=color:red> =</text><text style=color:red> </text><text style=color:red> (</text><text style=color:orange>)</text><span style='background-color: rgba(0, 0, 165, 0.25);'><text style=color:orange>+</text></span><span style='background-color: rgba(0, 165, 0, 0.25);'><text style=color:black>)</text></span><span style='background-color: rgba(0, 165, 0, 0.25);'><text style=color:black>+'</text></span><span style='background-color: rgba(0, 165, 0, 0.25);'><text style=color:black> AND</text></span><span style='background-color: rgba(0, 165, 0, 0.25);'><text style=color:black> column</text></span><span style='background-color: rgba(0, 165, 0, 0.25);'><text style=color:black>1</text></span><span style='background-color: rgba(0, 165, 0, 0.25);'><text style=color:black> =</text></span><span style='background-color: rgba(0, 165, 0, 0.25);'><text style=color:black> '</text></span><text style=color:red>b</text><text style=color:red>'</text><text style=color:red> AND</text><text style=color:red> column</text><text style=color:red>2</text><text style=color:red> =</text><text style=color:red> '</text><text style=color:red>c</text><text style=color:red>'</text><text style=color:red> AND</text><text style=color:red> column</text><text style=color:red>3</text><text style=color:red> =</text><text style=color:red> '</text><span style='background-color: rgba(0, 0, 165, 0.25);'><text style=color:orange>)</text></span><span style='background-color: rgba(0, 165, 0, 0.25);'><text style=color:black> '</text></span><span style='background-color: rgba(0, 165, 0, 0.25);'><text style=color:black>)'</text></span><span style='background-color: rgba(0, 165, 0, 0.25);'><text style=color:black> AND</text></span><span style='background-color: rgba(0, 165, 0, 0.25);'><text style=color:black> column</text></span><span style='background-color: rgba(0, 165, 0, 0.25);'><text style=color:black>1</text></span><span style='background-color: rgba(0, 165, 0, 0.25);'><text style=color:black> =</text></span><span style='background-color: rgba(0, 165, 0, 0.25);'><text style=color:black> '</text></span><span style='background-color: rgba(0, 165, 0, 0.25);'><text style=color:black>a</text></span><span style='background-color: rgba(0, 165, 0, 0.25);'><text style=color:black>'</text></span><span style='background-color: rgba(0, 165, 0, 0.25);'><text style=color:black> AND</text></span><span style='background-color: rgba(0, 165, 0, 0.25);'><text style=color:black> column</text></span><span style='background-color: rgba(0, 165, 0, 0.25);'><text style=color:black>2</text></span><span style='background-color: rgba(0, 165, 0, 0.25);'><text style=color:black> =</text></span><span style='background-color: rgba(0, 165, 0, 0.25);'><text style=color:black> '</text></span><span style='background-color: rgba(0, 165, 0, 0.25);'><text style=color:black>b</text></span><span style='background-color: rgba(0, 165, 0, 0.25);'><text style=color:black>'</text></span><span style='background-color: rgba(0, 165, 0, 0.25);'><text style=color:black> AND</text></span><span style='background-color: rgba(0, 165, 0, 0.25);'><text style=color:black> column</text></span><span style='background-color: rgba(0, 165, 0, 0.25);'><text style=color:black>3</text></span><span style='background-color: rgba(0, 165, 0, 0.25);'><text style=color:black> =</text></span><span style='background-color: rgba(0, 165, 0, 0.25);'><text style=color:black> '</text></span></div>"
     },
     "metadata": {},
     "output_type": "display_data"
    },
    {
     "name": "stdout",
     "output_type": "stream",
     "text": [
      "29.74561882019043\n",
      "8.942493400723848\n"
     ]
    }
   ],
   "source": [
    "res = guide(\n",
    "    model,\n",
    "    tokenizer=tokenizer,\n",
    "    parser=load_parser(lark_grammar_filepath=\"../grammars/sql.lark\"),\n",
    "        prompt=\"Here's a long, complex SQL function:\",\n",
    "    draft_model=guidance.models.Transformers(\n",
    "        model_name_or_path, echo=False\n",
    "    ),\n",
    "    stop_at=['```', ';'],\n",
    "    max_grammar_corrections=20,\n",
    "    verbose=True,\n",
    "    max_new_tokens=20,\n",
    "    temperature=0.0,\n",
    ")\n",
    "print(res.process_time_seconds)\n",
    "print(len(tokenizer(res.response)['input_ids']) / res.process_time_seconds)"
   ],
   "metadata": {
    "collapsed": false,
    "ExecuteTime": {
     "end_time": "2024-08-24T16:00:44.992160Z",
     "start_time": "2024-08-24T16:00:14.351542Z"
    }
   },
   "id": "56d2f6feb26acfbe"
  },
  {
   "cell_type": "code",
   "execution_count": 18,
   "outputs": [
    {
     "name": "stdout",
     "output_type": "stream",
     "text": [
      "SELECT * FROM table WHERE column1 = 'a' AND column2 = 'b' AND column3 =('c'*2) AND column4 = 'd' AND column5 = 'e' AND column6 =('f'*2) AND column7 = 'g' AND column8 = 'h' AND(column1 = 'a' AND column2 = 'b' AND column3 = 'c'AND column4 = 'd' AND column5 = 'e' AND column6 = 'f' AND(column7 = 'g' AND column8 = 'h' AND column1 = 'a'AND column2 = 'b' AND column3 = 'c' AND column4 = 'd' AND(column7 = 'g' AND column8 = 'h' AND column1 = ('a' * 2)) AND column9 = 'i' AND column10 = 'j' AND column= 'k' AND column= 'l' AND column= 'm' AND column= ('' * 2)) AND column11 = 'n' AND column12 = ('' * 2)) AND column12 = 'o' AND column1 =  (('' * 2)+' AND column1 = ');\n"
     ]
    }
   ],
   "source": [
    "try:\n",
    "    print(json.dumps(json.loads(res.response), indent = 4))\n",
    "except:\n",
    "    print(res.response)"
   ],
   "metadata": {
    "collapsed": false,
    "ExecuteTime": {
     "end_time": "2024-08-24T16:00:50.044195Z",
     "start_time": "2024-08-24T16:00:50.035635Z"
    }
   },
   "id": "8493d0291c629eeb"
  },
  {
   "cell_type": "code",
   "execution_count": 5,
   "outputs": [],
   "source": [],
   "metadata": {
    "collapsed": false,
    "ExecuteTime": {
     "end_time": "2024-08-21T12:34:05.654960Z",
     "start_time": "2024-08-21T12:34:05.652272Z"
    }
   },
   "id": "14146fdff896a65c"
  }
 ],
 "metadata": {
  "kernelspec": {
   "name": "grammar-guide",
   "language": "python",
   "display_name": "grammar-guide"
  },
  "language_info": {
   "codemirror_mode": {
    "name": "ipython",
    "version": 2
   },
   "file_extension": ".py",
   "mimetype": "text/x-python",
   "name": "python",
   "nbconvert_exporter": "python",
   "pygments_lexer": "ipython2",
   "version": "2.7.6"
  }
 },
 "nbformat": 4,
 "nbformat_minor": 5
}
