{
 "cells": [
  {
   "cell_type": "code",
   "execution_count": 1,
   "id": "initial_id",
   "metadata": {
    "collapsed": true,
    "ExecuteTime": {
     "end_time": "2024-09-01T14:18:31.076310Z",
     "start_time": "2024-09-01T14:18:28.714029Z"
    }
   },
   "outputs": [
    {
     "data": {
      "text/plain": "True"
     },
     "execution_count": 1,
     "metadata": {},
     "output_type": "execute_result"
    }
   ],
   "source": [
    "import guidance\n",
    "import json \n",
    "from openai import OpenAI\n",
    "import os \n",
    "from dotenv import load_dotenv\n",
    "\n",
    "import grammar_guide as gg\n",
    "\n",
    "load_dotenv()"
   ]
  },
  {
   "cell_type": "code",
   "execution_count": 5,
   "outputs": [],
   "source": [
    "client = OpenAI(api_key=os.environ.get(\"OPENAI_API_KEY\"))\n",
    "draft_model_name_or_path = \"HuggingFaceTB/SmolLM-135M\""
   ],
   "metadata": {
    "collapsed": false,
    "ExecuteTime": {
     "end_time": "2024-09-01T14:19:09.497013Z",
     "start_time": "2024-09-01T14:19:09.452060Z"
    }
   },
   "id": "c50ec5e5fb39ebe7"
  },
  {
   "cell_type": "code",
   "execution_count": 13,
   "outputs": [],
   "source": [
    "def openai_generate(s: str, prompt: str, max_new_tokens: int) -> str:\n",
    "    messages = [\n",
    "        {\n",
    "            \"role\": \"system\",\n",
    "            \"content\": prompt\n",
    "        }\n",
    "    ]\n",
    "    if s:\n",
    "        messages += [\n",
    "            {\n",
    "                \"role\": \"assistant\",\n",
    "                \"content\": s\n",
    "            }\n",
    "        ]\n",
    "    chat_completion = client.chat.completions.create(\n",
    "        messages=messages,\n",
    "        model=\"gpt-4o-mini\",\n",
    "        max_tokens=max_new_tokens\n",
    "    )\n",
    "    return chat_completion.choices[0].message.content"
   ],
   "metadata": {
    "collapsed": false,
    "ExecuteTime": {
     "end_time": "2024-09-01T14:20:33.146258Z",
     "start_time": "2024-09-01T14:20:33.137883Z"
    }
   },
   "id": "c552c172d3ad5253"
  },
  {
   "cell_type": "code",
   "execution_count": 14,
   "outputs": [
    {
     "name": "stderr",
     "output_type": "stream",
     "text": [
      "We detected that you are passing `past_key_values` as a tuple and this is deprecated and will be removed in v4.43. Please use an appropriate `Cache` class (https://huggingface.co/docs/transformers/v4.41.3/en/internal/generation_utils#transformers.Cache)\n",
      "\u001B[33mMade a draft_gen correction...\u001B[39m\n"
     ]
    },
    {
     "name": "stdout",
     "output_type": "stream",
     "text": [
      "3.367475748062134\n"
     ]
    }
   ],
   "source": [
    "from string import Template\n",
    " \n",
    "num_json_keys = 6 # The number of JSON keys we want to generate (not telling GPT this!)\n",
    "lark_gramar_str = Template(open(\"../examples/benchmarks/json.lark\").read()).safe_substitute(\n",
    "    NUM_REPEATS=f\"{num_json_keys-1}\"\n",
    ")\n",
    "res = gg.guide(\n",
    "    model=openai_generate,\n",
    "    parser=gg.load_parser(lark_gramar_str),\n",
    "    prompt=\"Continue the below JSON object with only string values.\",\n",
    "    draft_model=guidance.models.Transformers(\n",
    "        draft_model_name_or_path, echo=False\n",
    "    ),\n",
    "    max_new_tokens=50,\n",
    "    max_grammar_corrections=3,\n",
    "    verbose=True,\n",
    ")\n",
    "print(res.process_time_seconds)"
   ],
   "metadata": {
    "collapsed": false,
    "ExecuteTime": {
     "end_time": "2024-09-01T14:20:37.707134Z",
     "start_time": "2024-09-01T14:20:33.700987Z"
    }
   },
   "id": "a82a5cd5d8777df6"
  },
  {
   "cell_type": "code",
   "execution_count": 15,
   "outputs": [
    {
     "name": "stdout",
     "output_type": "stream",
     "text": [
      "{\n",
      "    \"name\": \"John Doe\",\n",
      "    \"email\": \"johndoe@example.com\",\n",
      "    \"address\": \"123 Main St, Anytown, USA\",\n",
      "    \"phone\": \"555-1234\",\n",
      "    \"occupation\": \"Engineer  \"\n",
      "}\n"
     ]
    }
   ],
   "source": [
    "print(json.dumps(json.loads(res.response), indent=4))"
   ],
   "metadata": {
    "collapsed": false,
    "ExecuteTime": {
     "end_time": "2024-09-01T14:20:38.959915Z",
     "start_time": "2024-09-01T14:20:38.950318Z"
    }
   },
   "id": "1ab5d40dfe57a0d8"
  },
  {
   "cell_type": "code",
   "execution_count": 16,
   "outputs": [
    {
     "name": "stdout",
     "output_type": "stream",
     "text": [
      "[\n",
      "    {\n",
      "        \"Original\": \"{  \\\"name\\\": \\\"John Doe\\\",\\n  \\\"email\\\": \\\"johndoe@example.com\\\",\\n  \\\"address\\\": \\\"123 Main St, Anytown, USA\\\",\\n  \\\"phone\\\": \\\"555-1234\\\",\\n  \\\"occupation\\\": \\\"\",\n",
      "        \"Corrected\": \"{  \\\"name\\\": \\\"John Doe\\\",\\n  \\\"email\\\": \\\"johndoe@example.com\\\",\\n  \\\"address\\\": \\\"123 Main St, Anytown, USA\\\",\\n  \\\"phone\\\": \\\"555-1234\\\",\\n  \\\"occupation\\\": \\\"Engineer\",\n",
      "        \"Selected Candidate\": \"Engineer\",\n",
      "        \"Type\": \"draft_gen\"\n",
      "    },\n",
      "    {\n",
      "        \"Original\": \"{  \\\"name\\\": \\\"John Doe\\\",\\n  \\\"email\\\": \\\"johndoe@example.com\\\",\\n  \\\"address\\\": \\\"123 Main St, Anytown, USA\\\",\\n  \\\"phone\\\": \\\"555-1234\\\",\\n  \\\"occupation\\\": \\\"Engineer  \\\"company\\\": \\\"Tech Solutions Inc.\\\",\\n  \\\"hobbies\\\": \\\"Reading, Hiking, Coding\\\",\\n  \\\"favorite_color\\\": \\\"Blue\\\",\\n  \\\"marital_status\\\": \\\"Single\\\",\\n  \\\"bio\\\": \\\"A passionate engineer with a love for\",\n",
      "        \"Corrected\": \"{  \\\"name\\\": \\\"John Doe\\\",\\n  \\\"email\\\": \\\"johndoe@example.com\\\",\\n  \\\"address\\\": \\\"123 Main St, Anytown, USA\\\",\\n  \\\"phone\\\": \\\"555-1234\\\",\\n  \\\"occupation\\\": \\\"Engineer  \\\"}\",\n",
      "        \"Selected Candidate\": \"}\",\n",
      "        \"Type\": \"single_candidate\"\n",
      "    }\n",
      "]\n"
     ]
    }
   ],
   "source": [
    "print(json.dumps(res.to_list(), indent=4))"
   ],
   "metadata": {
    "collapsed": false,
    "ExecuteTime": {
     "end_time": "2024-09-01T14:20:42.284030Z",
     "start_time": "2024-09-01T14:20:42.273953Z"
    }
   },
   "id": "a89439d173a093bc"
  },
  {
   "cell_type": "markdown",
   "source": [
    "GTP-4o is generally good at following instructions, so unlike in `transformers-gg.ipynb`, we don't need to backtrack and correct an invalid numeric JSON value. Instead, we can just parse up until we hit our intended 6 JSON keys and insert a closing bracket `}`."
   ],
   "metadata": {
    "collapsed": false
   },
   "id": "6d42ac6381a5947"
  },
  {
   "cell_type": "code",
   "execution_count": null,
   "outputs": [],
   "source": [],
   "metadata": {
    "collapsed": false
   },
   "id": "b5e10e91b921735d"
  }
 ],
 "metadata": {
  "kernelspec": {
   "display_name": "Python 3",
   "language": "python",
   "name": "python3"
  },
  "language_info": {
   "codemirror_mode": {
    "name": "ipython",
    "version": 2
   },
   "file_extension": ".py",
   "mimetype": "text/x-python",
   "name": "python",
   "nbconvert_exporter": "python",
   "pygments_lexer": "ipython2",
   "version": "2.7.6"
  }
 },
 "nbformat": 4,
 "nbformat_minor": 5
}
